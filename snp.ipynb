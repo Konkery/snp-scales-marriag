{
 "cells": [
  {
   "cell_type": "markdown",
   "id": "8ca97a55-1ca3-48b1-ab60-92fd33752709",
   "metadata": {
    "jp-MarkdownHeadingCollapsed": true,
    "tags": []
   },
   "source": [
    "## ОБЩИЙ ДЛЯ ВСЕХ РЕШЕНИЙ КОД\n",
    "---"
   ]
  },
  {
   "cell_type": "markdown",
   "id": "bfec0791-9cdd-4877-bcc9-efd0fd249c35",
   "metadata": {
    "tags": []
   },
   "source": [
    "### НАСТРОЙКА JUPYTER LAB И ПОДКЛЮЧЕНИЕ БИБЛИОТЕК  \n",
    "---"
   ]
  },
  {
   "cell_type": "code",
   "execution_count": 1,
   "id": "872289e9-b5cf-4c77-9ef4-647a949adb17",
   "metadata": {
    "tags": []
   },
   "outputs": [],
   "source": [
    "# Импортировать библиотеки: numpy, pandas pandasql для работы с датасетами\n",
    "import numpy as np \n",
    "import pandas as pd\n",
    "import pandasql as ps\n",
    "\n",
    "# Импортировать библиотеку datetime для работы с датой, временем\n",
    "import datetime as dt\n",
    "\n",
    "# Импортировать библиотеки pathlib и csv для работы с файлами и импорта csv\n",
    "from pathlib import Path\n",
    "import csv\n",
    "\n",
    "# Импортировать библиотеки hashlib для работы с криптофункциями в том числе с 'md5'\n",
    "import hashlib as hs\n",
    "\n",
    "# Настройка среды Jupyter Lab\n",
    "pd.options.display.max_rows = 400"
   ]
  },
  {
   "cell_type": "markdown",
   "id": "ccf8dbb2-6ab9-4bd8-9f2f-30ec0b2dc502",
   "metadata": {
    "tags": []
   },
   "source": [
    "### БЛОК ИМПОРТА ИСХОДНЫХ ВЕСОВЫХ ДАННЫХ  \n",
    "---\n",
    " - загружаем исходные данные из файла с записями с весовыми показателями и номерами вагонов;\n",
    " - чистим загруженные данные;\n",
    " - генерируем и добавляем производные данные о массе;\n",
    " - на выходе получаем таблицу 'scales'"
   ]
  },
  {
   "cell_type": "code",
   "execution_count": 2,
   "id": "0bae1a37-dd3e-42ba-90ae-88286313e171",
   "metadata": {
    "tags": []
   },
   "outputs": [],
   "source": [
    "# Подготовить путь к исходным CSV файлам\n",
    "dir_path = Path.cwd()"
   ]
  },
  {
   "cell_type": "code",
   "execution_count": 4,
   "id": "29d23ae6-ce53-4dd6-8feb-33a3ac8f9048",
   "metadata": {
    "tags": []
   },
   "outputs": [],
   "source": [
    "# Загрузить данные из файла *scales*, файл содержит сырые данные по измеренным показателям массы\n",
    "# номер состава, номер вагона, дата/время, и ряд друхих\n",
    "\n",
    "\n",
    "# Подготовить переменную с именем импортируемого CSV файла с массами цистерн\n",
    "file_name_scales = '01__snp-scales.csv'\n",
    "path_file_scales = Path(dir_path,'res', 'data', file_name_scales)\n",
    "\n",
    "# Загрузить таблицу с данными взвешивания\n",
    "with open(path_file_scales, \"r\", encoding='utf-8') as csv_file_scales:\n",
    "    scales = pd.read_csv(csv_file_scales,\n",
    "                         delimiter=';',\n",
    "                         header=0,\n",
    "                         names=  ['trnum', 'num', 'bdatetime', 'invnum', 'tcalibr', 'tare', 'brutto', 'netto', 'velocity'] )\n",
    "\n",
    "# Добавить новый индексный столбец 'id_scales'\n",
    "scales['id_scales'] = np.arange(2, len(scales['invnum'])+2, 1)\n",
    "\n",
    "# Зафиксировать количество записей полученных из CSV файла\n",
    "len_scales = len(scales)\n",
    "\n",
    "# Привести даты к типу datetime\n",
    "scales['bdatetime'] = pd.to_datetime(scales['bdatetime'], dayfirst=True, format='%d.%m.%Y %H:%M:%S')\n",
    "\n",
    "# ЧИСТИМ ДАННЫЕ\n",
    "# Удалить не нужные столбцы: 'tcalibr', 'netto1', 'velocity'\n",
    "scales.drop(['tcalibr', 'velocity'], axis=1, inplace=True)\n",
    "\n",
    "# Удалить строки у которых значение столбца invnum = NaN\n",
    "scales.dropna(subset=['invnum'], inplace=True)\n",
    "\n",
    "# Заменить тип столбца 'invnum' на int64\n",
    "scales['invnum'] = scales['invnum'].astype('int64')\n",
    "\n",
    "# ГЕНЕРИРОВАТЬ И ДОБАВИТЬ ПРОИЗВОДНЫЕ ДАННЫЕ\n",
    "# Добавить новый столбец 'deltaweight' содержащий разницу массы на въезде и на выезде\n",
    "scales['deltaweight'] = scales['brutto'] - scales['tare']\n",
    "\n",
    "# Задать новый порядок столбцов и проиндексировать\n",
    "scales=scales.reindex(columns=['id_scales', 'trnum', 'invnum', 'num', 'bdatetime', 'tare', 'brutto', 'netto', 'deltaweight'])\n"
   ]
  },
  {
   "cell_type": "markdown",
   "id": "6960a78f-0b7e-40dc-b4c9-5d1de85cd9a8",
   "metadata": {
    "tags": []
   },
   "source": [
    "### РАЗБИТЬ ПОЛУЧЕННЫЕ ДАННЫЕ ДВЕ ОСНОВНЫЕ РАБОЧИЕ ТАБЛИЦЫ  \n",
    "---\n",
    " - выделить набор scales_in - записи с составами ВЪЕХАВШИМИ на базу;  \n",
    " - выделить набор scales_out - записи с составами ВЫЕХАВШИМИ с базы;\n",
    " - разделение провести по значению '0' в поле 'tare'\n",
    " - на выходе получаем таблицы 'scales_in' и 'scales_out'"
   ]
  },
  {
   "cell_type": "code",
   "execution_count": 5,
   "id": "0ffe08a7-96f4-43ef-882d-95aec9866b23",
   "metadata": {
    "tags": []
   },
   "outputs": [],
   "source": [
    "# ВЫделить в отдельную таблицу 'scales_in' записи с транзакцией заехавших составов, по условию 'tare' = 0\n",
    "scales_in = scales[ scales['tare'] == 0 ]\n",
    "# ВЫделить в отдельную таблицу 'scales_out' записи с транзакцией выехавших составов, по условию 'tare' != 0\n",
    "scales_out = scales[ scales['tare'] != 0 ]\n",
    "\n",
    "# Задать индексацию по 'id_scales'\n",
    "#scales_in = scales_in.set_index(keys = ['id_scales'], drop=False)\n",
    "#scales_out = scales_out.set_index(keys = ['id_scales'], drop=False)"
   ]
  },
  {
   "cell_type": "markdown",
   "id": "f50cb18d-e229-4142-b5b7-75801b97edeb",
   "metadata": {
    "tags": []
   },
   "source": [
    "### БЛОК ВИЗУАЛИЗАЦИИ ХАРАКТЕРИСТИК ТАБЛИЦ 'scales_in' и 'scales_out'  \n",
    "---\n",
    "В данном блоке выводятся на печать основные интегральные характеристики полученных таблиц:  \n",
    " - количестве записей в каждой из полученных таблиц;\n",
    " - типы данных в каждой из итоговых таблиц;\n",
    " - количество записей в исходном 'грязном' файле;\n",
    " - сумму записей в обеих итоговых таблицах;\n",
    " - разница (количество) записей в таблице 'scales_in' и 'scales_out';\n",
    " - разница между количеством исходной 'грязной' таблицы и суммой записей двух таблиц, т.е. принципиально bad данные;\n",
    " - выведены для визуального контроля первые записи итоговых таблиц;"
   ]
  },
  {
   "cell_type": "code",
   "execution_count": 11,
   "id": "7a95a2a9-5b9b-4ab7-ba87-ebb9f8ff5b1a",
   "metadata": {},
   "outputs": [
    {
     "name": "stdout",
     "output_type": "stream",
     "text": [
      "<class 'pandas.core.frame.DataFrame'>\n",
      "Int64Index: 6527 entries, 0 to 12779\n",
      "Data columns (total 9 columns):\n",
      " #   Column       Non-Null Count  Dtype         \n",
      "---  ------       --------------  -----         \n",
      " 0   id_scales    6527 non-null   int32         \n",
      " 1   trnum        6527 non-null   int64         \n",
      " 2   invnum       6527 non-null   int64         \n",
      " 3   num          6527 non-null   int64         \n",
      " 4   bdatetime    6527 non-null   datetime64[ns]\n",
      " 5   tare         6527 non-null   int64         \n",
      " 6   brutto       6527 non-null   int64         \n",
      " 7   netto        6527 non-null   int64         \n",
      " 8   deltaweight  6527 non-null   int64         \n",
      "dtypes: datetime64[ns](1), int32(1), int64(7)\n",
      "memory usage: 484.4 KB\n"
     ]
    }
   ],
   "source": [
    "# Сводная информация по таблице 'scales_in'\n",
    "scales_in.info()"
   ]
  },
  {
   "cell_type": "code",
   "execution_count": 11,
   "id": "b7c47ecb-86f7-4a56-b9b1-2cd20ec451c1",
   "metadata": {},
   "outputs": [
    {
     "name": "stdout",
     "output_type": "stream",
     "text": [
      "<class 'pandas.core.frame.DataFrame'>\n",
      "Int64Index: 6213 entries, 41 to 12739\n",
      "Data columns (total 9 columns):\n",
      " #   Column       Non-Null Count  Dtype         \n",
      "---  ------       --------------  -----         \n",
      " 0   id_scales    6213 non-null   int32         \n",
      " 1   trnum        6213 non-null   int64         \n",
      " 2   invnum       6213 non-null   int64         \n",
      " 3   num          6213 non-null   int64         \n",
      " 4   bdatetime    6213 non-null   datetime64[ns]\n",
      " 5   tare         6213 non-null   int64         \n",
      " 6   brutto       6213 non-null   int64         \n",
      " 7   netto        6213 non-null   int64         \n",
      " 8   deltaweight  6213 non-null   int64         \n",
      "dtypes: datetime64[ns](1), int32(1), int64(7)\n",
      "memory usage: 461.1 KB\n"
     ]
    }
   ],
   "source": [
    "# Сводная информация по таблице 'scales_out'\n",
    "scales_out.info()"
   ]
  },
  {
   "cell_type": "code",
   "execution_count": 12,
   "id": "a52c0414-5699-4b43-9492-5b40e77e038a",
   "metadata": {},
   "outputs": [
    {
     "data": {
      "text/plain": [
       "12780"
      ]
     },
     "execution_count": 12,
     "metadata": {},
     "output_type": "execute_result"
    }
   ],
   "source": [
    "# Исходное количество записей полученное из CSV файла до 'чистки' и разделения\n",
    "len_scales"
   ]
  },
  {
   "cell_type": "code",
   "execution_count": 13,
   "id": "ed3e1f95-7c80-4939-afec-454e5feef58d",
   "metadata": {},
   "outputs": [
    {
     "data": {
      "text/plain": [
       "6527"
      ]
     },
     "execution_count": 13,
     "metadata": {},
     "output_type": "execute_result"
    }
   ],
   "source": [
    "# Общее количество записей таблицы 'scales_in'\n",
    "len(scales_in)"
   ]
  },
  {
   "cell_type": "code",
   "execution_count": 14,
   "id": "9a620c5c-9884-438b-ba47-70c14200c069",
   "metadata": {},
   "outputs": [
    {
     "data": {
      "text/plain": [
       "6213"
      ]
     },
     "execution_count": 14,
     "metadata": {},
     "output_type": "execute_result"
    }
   ],
   "source": [
    "# Общее количество записей таблицы 'scales_out'\n",
    "len(scales_out)"
   ]
  },
  {
   "cell_type": "code",
   "execution_count": 15,
   "id": "40aa7bf7-a1c6-4763-b558-a4db11010c05",
   "metadata": {},
   "outputs": [
    {
     "data": {
      "text/plain": [
       "12740"
      ]
     },
     "execution_count": 15,
     "metadata": {},
     "output_type": "execute_result"
    }
   ],
   "source": [
    "# Сумма записей таблииц 'scales_in' и 'scales_out'\n",
    "len(scales_in) + len(scales_out)"
   ]
  },
  {
   "cell_type": "code",
   "execution_count": 16,
   "id": "89752ddc-90d6-4342-9788-9ad36581ffb9",
   "metadata": {},
   "outputs": [
    {
     "data": {
      "text/plain": [
       "314"
      ]
     },
     "execution_count": 16,
     "metadata": {},
     "output_type": "execute_result"
    }
   ],
   "source": [
    "# Разница записей между таблиицей 'scales_in' и 'scales_out'\n",
    "len(scales_in) - len(scales_out)"
   ]
  },
  {
   "cell_type": "code",
   "execution_count": 17,
   "id": "61c58e51-c221-46b4-bcd9-88eda1a47551",
   "metadata": {},
   "outputs": [
    {
     "data": {
      "text/plain": [
       "40"
      ]
     },
     "execution_count": 17,
     "metadata": {},
     "output_type": "execute_result"
    }
   ],
   "source": [
    "# Количество bad значений поля с идентификаторами вагонов 'invnum'\n",
    "len_scales - (len(scales_in) + len(scales_out))"
   ]
  },
  {
   "cell_type": "code",
   "execution_count": 18,
   "id": "0fa2e817-cfe1-48dc-934f-dca1e4277ff2",
   "metadata": {},
   "outputs": [
    {
     "data": {
      "text/plain": [
       "0.3129890453834116"
      ]
     },
     "execution_count": 18,
     "metadata": {},
     "output_type": "execute_result"
    }
   ],
   "source": [
    "# Процент % bad значений если исходить из того что они равномерно распределены между in и out значениями\n",
    "(len_scales - (len(scales_in) + len(scales_out))) / (len_scales/100)"
   ]
  },
  {
   "cell_type": "code",
   "execution_count": 19,
   "id": "7b3ba1fd-95e6-4bda-9b3d-4d0aac622f74",
   "metadata": {},
   "outputs": [
    {
     "data": {
      "text/plain": [
       "4.810785965987437"
      ]
     },
     "execution_count": 19,
     "metadata": {},
     "output_type": "execute_result"
    }
   ],
   "source": [
    "# Процент % не состыкованных значени если за 100%, брать количество in записей\n",
    "(len(scales_in) - len(scales_out)) / (len(scales_in)/100)"
   ]
  },
  {
   "cell_type": "code",
   "execution_count": 20,
   "id": "9742e2ff-87fd-4506-b502-a34edea75878",
   "metadata": {},
   "outputs": [
    {
     "data": {
      "text/html": [
       "<div>\n",
       "<style scoped>\n",
       "    .dataframe tbody tr th:only-of-type {\n",
       "        vertical-align: middle;\n",
       "    }\n",
       "\n",
       "    .dataframe tbody tr th {\n",
       "        vertical-align: top;\n",
       "    }\n",
       "\n",
       "    .dataframe thead th {\n",
       "        text-align: right;\n",
       "    }\n",
       "</style>\n",
       "<table border=\"1\" class=\"dataframe\">\n",
       "  <thead>\n",
       "    <tr style=\"text-align: right;\">\n",
       "      <th></th>\n",
       "      <th>id_scales</th>\n",
       "      <th>trnum</th>\n",
       "      <th>invnum</th>\n",
       "      <th>num</th>\n",
       "      <th>bdatetime</th>\n",
       "      <th>tare</th>\n",
       "      <th>brutto</th>\n",
       "      <th>netto</th>\n",
       "      <th>deltaweight</th>\n",
       "    </tr>\n",
       "  </thead>\n",
       "  <tbody>\n",
       "    <tr>\n",
       "      <th>0</th>\n",
       "      <td>2</td>\n",
       "      <td>761304</td>\n",
       "      <td>73915704</td>\n",
       "      <td>41</td>\n",
       "      <td>2023-01-01 01:41:20</td>\n",
       "      <td>0</td>\n",
       "      <td>27100</td>\n",
       "      <td>0</td>\n",
       "      <td>27100</td>\n",
       "    </tr>\n",
       "    <tr>\n",
       "      <th>1</th>\n",
       "      <td>3</td>\n",
       "      <td>761304</td>\n",
       "      <td>50919992</td>\n",
       "      <td>40</td>\n",
       "      <td>2023-01-01 01:41:36</td>\n",
       "      <td>0</td>\n",
       "      <td>26350</td>\n",
       "      <td>0</td>\n",
       "      <td>26350</td>\n",
       "    </tr>\n",
       "  </tbody>\n",
       "</table>\n",
       "</div>"
      ],
      "text/plain": [
       "   id_scales   trnum    invnum  num           bdatetime  tare  brutto  netto  \\\n",
       "0          2  761304  73915704   41 2023-01-01 01:41:20     0   27100      0   \n",
       "1          3  761304  50919992   40 2023-01-01 01:41:36     0   26350      0   \n",
       "\n",
       "   deltaweight  \n",
       "0        27100  \n",
       "1        26350  "
      ]
     },
     "execution_count": 20,
     "metadata": {},
     "output_type": "execute_result"
    }
   ],
   "source": [
    "# Первые значения таблицы 'scales_in'\n",
    "scales_in.head(2)"
   ]
  },
  {
   "cell_type": "code",
   "execution_count": 21,
   "id": "1e017af8-ac13-450d-a3f1-8afa3f735efc",
   "metadata": {},
   "outputs": [
    {
     "data": {
      "text/html": [
       "<div>\n",
       "<style scoped>\n",
       "    .dataframe tbody tr th:only-of-type {\n",
       "        vertical-align: middle;\n",
       "    }\n",
       "\n",
       "    .dataframe tbody tr th {\n",
       "        vertical-align: top;\n",
       "    }\n",
       "\n",
       "    .dataframe thead th {\n",
       "        text-align: right;\n",
       "    }\n",
       "</style>\n",
       "<table border=\"1\" class=\"dataframe\">\n",
       "  <thead>\n",
       "    <tr style=\"text-align: right;\">\n",
       "      <th></th>\n",
       "      <th>id_scales</th>\n",
       "      <th>trnum</th>\n",
       "      <th>invnum</th>\n",
       "      <th>num</th>\n",
       "      <th>bdatetime</th>\n",
       "      <th>tare</th>\n",
       "      <th>brutto</th>\n",
       "      <th>netto</th>\n",
       "      <th>deltaweight</th>\n",
       "    </tr>\n",
       "  </thead>\n",
       "  <tbody>\n",
       "    <tr>\n",
       "      <th>41</th>\n",
       "      <td>43</td>\n",
       "      <td>761345</td>\n",
       "      <td>57187395</td>\n",
       "      <td>1</td>\n",
       "      <td>2023-01-01 03:35:54</td>\n",
       "      <td>27850</td>\n",
       "      <td>28050</td>\n",
       "      <td>200</td>\n",
       "      <td>200</td>\n",
       "    </tr>\n",
       "    <tr>\n",
       "      <th>42</th>\n",
       "      <td>44</td>\n",
       "      <td>761345</td>\n",
       "      <td>54240205</td>\n",
       "      <td>2</td>\n",
       "      <td>2023-01-01 03:36:11</td>\n",
       "      <td>27100</td>\n",
       "      <td>26950</td>\n",
       "      <td>0</td>\n",
       "      <td>-150</td>\n",
       "    </tr>\n",
       "  </tbody>\n",
       "</table>\n",
       "</div>"
      ],
      "text/plain": [
       "    id_scales   trnum    invnum  num           bdatetime   tare  brutto  \\\n",
       "41         43  761345  57187395    1 2023-01-01 03:35:54  27850   28050   \n",
       "42         44  761345  54240205    2 2023-01-01 03:36:11  27100   26950   \n",
       "\n",
       "    netto  deltaweight  \n",
       "41    200          200  \n",
       "42      0         -150  "
      ]
     },
     "execution_count": 21,
     "metadata": {},
     "output_type": "execute_result"
    }
   ],
   "source": [
    "# Первые значения таблицы 'scales_out'\n",
    "scales_out.head(2)"
   ]
  },
  {
   "cell_type": "markdown",
   "id": "d45e0d5c-8773-4599-993d-f08c02711287",
   "metadata": {
    "tags": []
   },
   "source": [
    "### БЛОК ИМПОРТА ИСХОДНЫХ ДАННЫХ ПО ОТБРАКОВКЕ  \n",
    "---\n",
    " - загружаем исходные данные из файла с записями о забракованных вагонов;\n",
    " - генерируем и добавляем поле 'id_marriag', которое позволит сопоставлять записи результатов работы программы с исходными 'грязными' данными до обработки\n",
    " - чистим загруженные данные;\n",
    " - на выходе получаем таблицу 'marriag'"
   ]
  },
  {
   "cell_type": "code",
   "execution_count": 44,
   "id": "8281378a-13a2-457f-8b75-b1dc5f023bcb",
   "metadata": {},
   "outputs": [],
   "source": [
    "# Загрузить данные из файла *marriag*, файл содержит сырые данные по отбракованным вагонам\n",
    "# В итоге сосздается dataset 'marriag'\n",
    "\n",
    "# Подготовить переменную с именем импортируемого CSV файла с дефектными цистернами\n",
    "file_name_marriag = '02__snp-marriag.csv'\n",
    "path_file_marriag = Path(dir_path,'res', 'data', file_name_marriag)\n",
    "\n",
    "# Загрузить таблицу с данными отбраковки\n",
    "with open(path_file_marriag, \"r\", encoding='utf-8') as csv_file_marriag:\n",
    "    marriag = pd.read_csv(csv_file_marriag,\n",
    "                          delimiter=';',\n",
    "                          header=0,\n",
    "                          names=  ['n', 'invnum', 'tcalibr', 'mass', 'nact', 'bdatetime', 'reason', 'contractor'])\n",
    "\n",
    "# Добавить индексный столбец ID с индексом\n",
    "marriag['id_marriag'] = np.arange(2, len(marriag['invnum'])+2, 1)\n",
    "\n",
    "# Удалить не нужные столбцы\n",
    "marriag.drop(['tcalibr', 'mass'], axis=1, inplace=True)\n",
    "\n",
    "# Привести даты к типу datetime\n",
    "marriag['bdatetime'] = pd.to_datetime(marriag['bdatetime'], dayfirst=True, format='%d.%m.%Y')\n",
    "\n",
    "# Задать новый порядок столбцов и проиндексировать\n",
    "marriag = marriag.reindex(columns=['invnum', 'id_marriag',  'bdatetime', 'n', 'nact', 'reason', 'contractor'])\n",
    "\n",
    "# Задать индексацию по 'id_marriag'\n",
    "marriag = marriag.set_index(keys = ['id_marriag'])"
   ]
  },
  {
   "cell_type": "markdown",
   "id": "490cd277-0000-4840-9d7e-a6bb554831ae",
   "metadata": {
    "tags": []
   },
   "source": [
    "### БЛОК ВИЗУАЛИЗАЦИИ ХАРАКТЕРИСТИК ТАБЛИЦЫ 'marriag'  \n",
    "---\n",
    "В данном блоке выводятся на печать основные интегральные характеристики таблиц 'marriag':  \n",
    " - количестве записей в таблице;\n",
    " - типы данных в таблице;\n",
    " - выведены для визуального контроля первые записи итоговых таблиц;"
   ]
  },
  {
   "cell_type": "code",
   "execution_count": 45,
   "id": "b96d932b-f6e2-4c2b-bcc7-8aeb09c5efe1",
   "metadata": {},
   "outputs": [
    {
     "name": "stdout",
     "output_type": "stream",
     "text": [
      "<class 'pandas.core.frame.DataFrame'>\n",
      "Int64Index: 441 entries, 2 to 442\n",
      "Data columns (total 6 columns):\n",
      " #   Column      Non-Null Count  Dtype         \n",
      "---  ------      --------------  -----         \n",
      " 0   invnum      441 non-null    int64         \n",
      " 1   bdatetime   441 non-null    datetime64[ns]\n",
      " 2   n           441 non-null    int64         \n",
      " 3   nact        441 non-null    int64         \n",
      " 4   reason      441 non-null    object        \n",
      " 5   contractor  433 non-null    object        \n",
      "dtypes: datetime64[ns](1), int64(3), object(2)\n",
      "memory usage: 24.1+ KB\n"
     ]
    }
   ],
   "source": [
    "# Сводная информация по таблице 'marriag'\n",
    "marriag.info()"
   ]
  },
  {
   "cell_type": "code",
   "execution_count": 46,
   "id": "a550c88b-1939-4d71-a16e-4803e1e7ab81",
   "metadata": {},
   "outputs": [
    {
     "data": {
      "text/plain": [
       "441"
      ]
     },
     "execution_count": 46,
     "metadata": {},
     "output_type": "execute_result"
    }
   ],
   "source": [
    "# Общее количество записей таблицы 'marriag'\n",
    "len(marriag)"
   ]
  },
  {
   "cell_type": "code",
   "execution_count": 47,
   "id": "b2f32570-88e1-4c76-8989-e59db7bf9039",
   "metadata": {
    "tags": []
   },
   "outputs": [
    {
     "data": {
      "text/html": [
       "<div>\n",
       "<style scoped>\n",
       "    .dataframe tbody tr th:only-of-type {\n",
       "        vertical-align: middle;\n",
       "    }\n",
       "\n",
       "    .dataframe tbody tr th {\n",
       "        vertical-align: top;\n",
       "    }\n",
       "\n",
       "    .dataframe thead th {\n",
       "        text-align: right;\n",
       "    }\n",
       "</style>\n",
       "<table border=\"1\" class=\"dataframe\">\n",
       "  <thead>\n",
       "    <tr style=\"text-align: right;\">\n",
       "      <th></th>\n",
       "      <th>invnum</th>\n",
       "      <th>bdatetime</th>\n",
       "      <th>n</th>\n",
       "      <th>nact</th>\n",
       "      <th>reason</th>\n",
       "      <th>contractor</th>\n",
       "    </tr>\n",
       "    <tr>\n",
       "      <th>id_marriag</th>\n",
       "      <th></th>\n",
       "      <th></th>\n",
       "      <th></th>\n",
       "      <th></th>\n",
       "      <th></th>\n",
       "      <th></th>\n",
       "    </tr>\n",
       "  </thead>\n",
       "  <tbody>\n",
       "    <tr>\n",
       "      <th>2</th>\n",
       "      <td>75034488</td>\n",
       "      <td>2023-01-01</td>\n",
       "      <td>1</td>\n",
       "      <td>1</td>\n",
       "      <td>прикрытие</td>\n",
       "      <td>АО\"НТС\"</td>\n",
       "    </tr>\n",
       "    <tr>\n",
       "      <th>3</th>\n",
       "      <td>51519536</td>\n",
       "      <td>2023-01-01</td>\n",
       "      <td>2</td>\n",
       "      <td>1</td>\n",
       "      <td>прикрытие</td>\n",
       "      <td>ЭКЗА</td>\n",
       "    </tr>\n",
       "    <tr>\n",
       "      <th>4</th>\n",
       "      <td>50624089</td>\n",
       "      <td>2023-01-01</td>\n",
       "      <td>3</td>\n",
       "      <td>2</td>\n",
       "      <td>прикрытие</td>\n",
       "      <td>рн-транс</td>\n",
       "    </tr>\n",
       "    <tr>\n",
       "      <th>5</th>\n",
       "      <td>53920021</td>\n",
       "      <td>2023-01-01</td>\n",
       "      <td>4</td>\n",
       "      <td>2</td>\n",
       "      <td>прикрытие</td>\n",
       "      <td>рн-транс</td>\n",
       "    </tr>\n",
       "    <tr>\n",
       "      <th>6</th>\n",
       "      <td>54770961</td>\n",
       "      <td>2023-01-01</td>\n",
       "      <td>5</td>\n",
       "      <td>2</td>\n",
       "      <td>запрет погрузки</td>\n",
       "      <td>рн-транс</td>\n",
       "    </tr>\n",
       "  </tbody>\n",
       "</table>\n",
       "</div>"
      ],
      "text/plain": [
       "              invnum  bdatetime  n  nact           reason contractor\n",
       "id_marriag                                                          \n",
       "2           75034488 2023-01-01  1     1        прикрытие    АО\"НТС\"\n",
       "3           51519536 2023-01-01  2     1        прикрытие       ЭКЗА\n",
       "4           50624089 2023-01-01  3     2        прикрытие   рн-транс\n",
       "5           53920021 2023-01-01  4     2        прикрытие   рн-транс\n",
       "6           54770961 2023-01-01  5     2  запрет погрузки   рн-транс"
      ]
     },
     "execution_count": 47,
     "metadata": {},
     "output_type": "execute_result"
    }
   ],
   "source": [
    "# Первые значения таблицы 'marriag'\n",
    "marriag.head(5)"
   ]
  },
  {
   "cell_type": "markdown",
   "id": "6af7fed7-4468-4da9-b0f4-3ad72bc81357",
   "metadata": {
    "jp-MarkdownHeadingCollapsed": true,
    "tags": []
   },
   "source": [
    "## ВЕТКА 1  \n",
    "---\n",
    "РЕШЕНИЕ ЗАДАЧИ ЧЕРЕЗ ЯВНО СУЩЕСТВУЮЩИЕ ПРИЗНАКИ. НЕ ВВОДИТСЯ И НЕ ИСПОЛЬЗУЕТСЯ ПОНЯТИЕ HASH ЗНАЧЕНИЯ"
   ]
  },
  {
   "cell_type": "markdown",
   "id": "5349274b-c027-4f13-bc8a-b7673a61c0d4",
   "metadata": {
    "tags": []
   },
   "source": [
    "### БЛОК СОЕДИНЕНИЯ ЗАПИСЕЙ 'scales_in' И 'scales_out'\n",
    "---\n",
    "В данном блоке производится объединение записей таблиц 'scales_in' и 'scales_out' для получения 'правильных' записей о транзакции состава и всех входящих в него вагонов которые въехали на базу для налива и выехали после. Соединение производится по правилу LEFT JOIN с выполнением тройного условия. Так как 'pandas' не умеет выполнять оьбъединенеия по нечеткому соответствию (а именно таким получается третье условие), то для соединения была задействована дополнительная библиотека 'pandassql' которая работает поверх 'pandas' и перегоняет (динамичесуки) данные в SQL базу данных SQLite, и позволяет выполнить преобразование с помощью команд SQL, а после обратно сохранить в объекты 'pandas' - DataFrames.  \n",
    "Условия соединенеия подразумевают совпадения следующих полей обеих DataFrames:  \n",
    " - 'invnum';\n",
    " - 'num';\n",
    " - нечеткое совпадение временного поля 'bdatetime' (по принципу оконной функции);\n",
    " - на выходе получаем таблицу 'scales_join';"
   ]
  },
  {
   "cell_type": "code",
   "execution_count": 12,
   "id": "ce9b5207-d8c3-4857-9273-0b7f1300ee82",
   "metadata": {
    "tags": []
   },
   "outputs": [],
   "source": [
    "# Подготовить SQL запрос для левого соединения таблиц 'scales_in' и 'scales_out' с помощью функционала библиотеки 'pandasql'\n",
    "\n",
    "join_query_scales = '''\n",
    "    SELECT\n",
    "        l.id_scales      as id_scales\n",
    "        ,r.trnum         as trnum_in\n",
    "        ,l.trnum         as trnum_out\n",
    "        ,r.invnum        as invnum_in\n",
    "        ,l.invnum        as invnum_out\n",
    "        ,r.num           as num_in\n",
    "        ,l.num           as num_out\n",
    "        ,r.bdatetime     as date_in\n",
    "        ,l.bdatetime     as date_out\n",
    "        ,r.brutto        as tare_in\n",
    "        ,l.tare          as tare_out\n",
    "        ,l.brutto        as brutto\n",
    "        ,l.netto         as netto\n",
    "        ,l.deltaweight   as deltaweight\n",
    "    FROM scales_in as r LEFT JOIN scales_out as l\n",
    "         ON (r.invnum = l.invnum)\n",
    "            AND (r.num = l.num)\n",
    "            AND (cast(strftime('%s',r.bdatetime) as interger)\n",
    "                BETWEEN cast(strftime('%s',l.bdatetime, '-37 hours') as interger) AND cast(strftime('%s',l.bdatetime) as interger) )\n",
    "'''\n",
    "\n",
    "# Выполнить ранее подготовленный запрос средствами библиотеки 'pandasql', получить результирующую таблицу\n",
    "scales_join = ps.sqldf(join_query_scales, locals())\n",
    "\n",
    "# Привести даты к типу datetime\n",
    "scales_join['date_in'] = pd.to_datetime(scales_join['date_in'])\n",
    "scales_join['date_out'] = pd.to_datetime(scales_join['date_out'])\n",
    "\n",
    "# Вставить столбец 'deltatetime' с данными разницы времени (дени - часа - минуты - секунды) между событием 'въехал' и событием 'выехал'\n",
    "scales_join.insert(9, 'deltatetime', scales_join['date_out']-scales_join['date_in'])\n",
    "\n",
    "# Нормировать разницу к формату 00,00 (часы и доли часа)\n",
    "scales_join['deltatetime'] = (scales_join['deltatetime']/pd.Timedelta('1 hour')).round(2)\n",
    "\n",
    "# Преобразовать 'deltatetime' к string и заменить '.' на ',' т.к. импортирует с '.' асурд\n",
    "scales_join['deltatetime'] = scales_join['deltatetime'].astype(str).str.replace('.', ',', regex=False)\n",
    "scales_join['deltatetime'] = scales_join['deltatetime'].astype(str).str.replace('nan', '', regex=False)\n",
    "\n",
    "# Заменить NaN в столбцах 'trnum_out', 'invnum_out', 'num_out', 'brutto', 'netto', 'deltaweigth' на 0\n",
    "scales_join[[ 'id_scales'\n",
    "             ,'trnum_out'\n",
    "             ,'invnum_out'\n",
    "             ,'num_out'\n",
    "             ,'deltatetime'\n",
    "             ,'tare_out'\n",
    "             ,'brutto'\n",
    "             ,'netto'\n",
    "             ,'deltaweight']] = scales_join[['id_scales', 'trnum_out', 'invnum_out', 'num_out' ,'deltatetime', 'tare_out', 'brutto', 'netto', 'deltaweight']].fillna(0)\n",
    "\n",
    "# Заменить тип в столбцах 'trnum_out', 'invnum_out', 'num_out', 'brutto', 'netto', 'deltaweigth' на int64\n",
    "scales_join[[ 'id_scales'\n",
    "             ,'trnum_out'\n",
    "             ,'invnum_out'\n",
    "             ,'num_out'\n",
    "             ,'tare_out'\n",
    "             ,'brutto'\n",
    "             ,'netto'\n",
    "             ,'deltaweight']] = scales_join[['id_scales', 'trnum_out', 'invnum_out', 'num_out', 'tare_out','brutto', 'netto', 'deltaweight']].astype('int64')"
   ]
  },
  {
   "cell_type": "markdown",
   "id": "12c32347-c314-43a0-92ae-df0ba977f418",
   "metadata": {
    "tags": []
   },
   "source": [
    "### БЛОК ВИЗУАЛИЗАЦИИ ХАРАКТЕРИСТИК ТАБЛИЦЫ 'scales_join'  \n",
    "---\n",
    "В данном блоке выводятся на печать основные интегральные характеристики таблицы':  \n",
    " - количестве записей в таблице;\n",
    " - типы данных в таблице;\n",
    " - выведены для визуального контроля первые записи итоговых таблиц;"
   ]
  },
  {
   "cell_type": "code",
   "execution_count": 13,
   "id": "41990103-0431-4c1a-a47f-36183ea92eb2",
   "metadata": {},
   "outputs": [
    {
     "name": "stdout",
     "output_type": "stream",
     "text": [
      "<class 'pandas.core.frame.DataFrame'>\n",
      "RangeIndex: 39394 entries, 0 to 39393\n",
      "Data columns (total 15 columns):\n",
      " #   Column       Non-Null Count  Dtype         \n",
      "---  ------       --------------  -----         \n",
      " 0   id_scales    39394 non-null  int64         \n",
      " 1   trnum_in     39394 non-null  int64         \n",
      " 2   trnum_out    39394 non-null  int64         \n",
      " 3   invnum_in    39394 non-null  int64         \n",
      " 4   invnum_out   39394 non-null  int64         \n",
      " 5   num_in       39394 non-null  int64         \n",
      " 6   num_out      39394 non-null  int64         \n",
      " 7   date_in      39394 non-null  datetime64[ns]\n",
      " 8   date_out     37697 non-null  datetime64[ns]\n",
      " 9   deltatetime  39394 non-null  object        \n",
      " 10  tare_in      39394 non-null  int64         \n",
      " 11  tare_out     39394 non-null  int64         \n",
      " 12  brutto       39394 non-null  int64         \n",
      " 13  netto        39394 non-null  int64         \n",
      " 14  deltaweight  39394 non-null  int64         \n",
      "dtypes: datetime64[ns](2), int64(12), object(1)\n",
      "memory usage: 4.5+ MB\n"
     ]
    }
   ],
   "source": [
    "# Сводная информация по таблице 'scales_join'\n",
    "scales_join.info()"
   ]
  },
  {
   "cell_type": "code",
   "execution_count": 79,
   "id": "c66108fe-3b72-4b0e-b38d-6f7b2e473ad3",
   "metadata": {},
   "outputs": [
    {
     "data": {
      "text/plain": [
       "39394"
      ]
     },
     "execution_count": 79,
     "metadata": {},
     "output_type": "execute_result"
    }
   ],
   "source": [
    "# Общее количество записей таблицы 'scales_join'\n",
    "len(scales_join)"
   ]
  },
  {
   "cell_type": "code",
   "execution_count": 14,
   "id": "8d824076-c519-465f-a9bf-707bb343eff1",
   "metadata": {},
   "outputs": [
    {
     "data": {
      "text/plain": [
       "2423"
      ]
     },
     "execution_count": 14,
     "metadata": {},
     "output_type": "execute_result"
    }
   ],
   "source": [
    "# Значения таблицы 'scales_join'\n",
    "#filter_sj_1 = scales_join['id_scales'] == 5108\n",
    "filter_sj_2 = scales_join['tare_in'] != scales_join['tare_out'] # фильтр - не совпадают масса пустого вагона на въезде и выезде\n",
    "len((scales_join[filter_sj_2])['id_scales']) # количество записей соответствующих фильтру 'filter_sj_2'\n",
    "#scales_join[filter_sj_1]\n",
    "#scales_join[filter_sj_2]\n",
    "\n",
    "#scales_join.iloc[2550:2600]\n",
    "#scales_join.head(10)"
   ]
  },
  {
   "cell_type": "markdown",
   "id": "f1451eb1-6a21-42f6-bf08-5dbfe2882138",
   "metadata": {
    "tags": []
   },
   "source": [
    "### БЛОК СОХРАНЕНИЯ ПРОМЕЖУТОЧНОГО ФАЙЛА CSV С ДАННЫМИ ТАБЛИЦЫ 'scales_join'  \n",
    "---\n",
    " - на выходе получаем CSV файл"
   ]
  },
  {
   "cell_type": "code",
   "execution_count": 15,
   "id": "e0cdd262-54a0-4810-9ca6-17ed2e8ea1c4",
   "metadata": {
    "tags": []
   },
   "outputs": [],
   "source": [
    "# Подготовить переменную с именем экспортируемого CSV файла\n",
    "file_name_scales_join = '03__result-scales-correct-branch1.csv'\n",
    "path_file_scales_join = Path(dir_path,'res', 'data', file_name_scales_join)\n",
    "\n",
    "# Записать в данные в таблицу\n",
    "scales_join.to_csv(str(path_file_scales_join), index=False, sep=';', encoding='utf-8')"
   ]
  },
  {
   "cell_type": "markdown",
   "id": "76d5a482-ab0e-4439-98bc-57285d387725",
   "metadata": {
    "tags": []
   },
   "source": [
    "### БЛОК СОЕДИНЕНИЯ ЗАПИСЕЙ 'scales_join' И 'marriag' ДЛЯ ПОЛУЧЕНИЯ ТАБЛИЦЫ ЯВЛЯЮЩЕЙСЯ РЕШЕНИЕМ ЗАДАЧИ  \n",
    "---\n",
    "В данном блоке производится объединение записей таблиц scales_join и 'marriag' для получения итоговоЙ ТАБЛИЦЫ, которАЯ является решением задачи. Позже на ее основе будет получен итоговый выходной файл\n",
    "правильных' записей о транзакции состава и всех входящих в него вагонов которые въехали на базу для налива и выехали после. Соединение производится по правилу LEFT JOIN с выполнением двойного условия. Так как 'pandas' не умеет выполнять оьбъединенеия по нечеткому соответствию (а именно таким получается второе условие), то для соединения была задействована дополнительная библиотека 'pandassql' которая работает поверх 'pandas' и перегоняет (динамически) данные в SQL базу данных SQLite, далее позволяет выполнить преобразование с помощью команд SQL, а после обратно сохранить в объекты 'pandas' - DataFrames.\n",
    "Условия соединенеия подразумевают совпадения следующих полей обеих таблиц:  \n",
    " - 'invnum_out' и 'invnum';\n",
    " - нечеткое совпадение временного поля 'bdatetime' (по принципу оконной функции);\n",
    " - на выходе получаем таблицу 'join_hash_table';"
   ]
  },
  {
   "cell_type": "code",
   "execution_count": 16,
   "id": "6a8e7a6b-0a00-46b6-a5d8-cdf7b969b696",
   "metadata": {
    "tags": []
   },
   "outputs": [],
   "source": [
    "# Подготовить SQL запрос для левого соединения таблиц 'scales_join' и 'marriag'\n",
    "\n",
    "join_query_result_table = '''\n",
    "    SELECT\n",
    "        ROW_NUMBER() OVER(ORDER BY l.id_scales) + 1 as id_result\n",
    "        ,l.id_scales   as id_scales\n",
    "        ,r.id_marriag  as id_marriag\n",
    "        ,l.trnum_in    as trnum_in\n",
    "        ,l.trnum_out   as trnum_out\n",
    "        ,l.invnum_in   as invnum_in\n",
    "        ,l.invnum_out  as invnum_out\n",
    "        ,l.num_in      as num_in\n",
    "        ,l.num_out     as num_out\n",
    "        ,l.date_in     as date_in\n",
    "        ,l.date_out    as date_out\n",
    "        ,r.bdatetime   as date_marriag\n",
    "        ,l.deltatetime as deltatetime\n",
    "        ,l.tare_in     as tare_in\n",
    "        ,l.tare_out    as tare_out\n",
    "        ,l.brutto      as brutto\n",
    "        ,l.netto       as netto\n",
    "        ,l.deltaweight as deltaweight\n",
    "        ,r.nact        as nact\n",
    "        ,r.reason      as reason\n",
    "    FROM scales_join as l LEFT JOIN marriag as r\n",
    "         ON (l.invnum_out = r.invnum)\n",
    "            AND (cast(strftime('%s',r.bdatetime) as interger)\n",
    "                BETWEEN cast(strftime('%s',l.date_out, '-30 hours') as interger) AND cast(strftime('%s',l.date_out) as interger) )        \n",
    "'''\n",
    "\n",
    "# Выполнить ранее подготовленный запрос средствами библиотеки 'pandasql', получить результирующую таблицу\n",
    "join_table = ps.sqldf(join_query_result_table, locals())\n",
    "\n",
    "# Привести даты к типу datetime\n",
    "join_table['date_in'] = pd.to_datetime(join_table['date_in'])\n",
    "join_table['date_out'] = pd.to_datetime(join_table['date_out'])\n",
    "join_table['date_marriag'] = pd.to_datetime(join_table['date_marriag'])\n",
    "\n",
    "# Заменить NaN в столбце 'id_marriag' на 0\n",
    "join_table['id_marriag'] = join_table['id_marriag'].fillna(0)\n",
    "\n",
    "# Заменить тип столбца 'id_marriag' на int64\n",
    "join_table['id_marriag'] = join_table['id_marriag'].astype('int64')\n",
    "\n",
    "# Заменить None в столбце 'nact' на 0\n",
    "join_table['nact'] = join_table['nact'].fillna(0)\n",
    "\n",
    "# Заменить тип столбца 'nact' на int64\n",
    "join_table['nact'] = join_table['nact'].astype('int64')\n"
   ]
  },
  {
   "cell_type": "markdown",
   "id": "4aeb6998-83f9-4729-89ab-af1b19d59873",
   "metadata": {
    "tags": []
   },
   "source": [
    "### БЛОК ВИЗУАЛИЗАЦИИ ХАРАКТЕРИСТИК РЕЗУЛЬТИРУЮЩЕЙ ТАБЛИЦЫ 'join_table'  \n",
    "---\n",
    "В данном блоке выводятся на печать основные интегральные характеристики таблицы:\n",
    " - количестве записей в таблице;\n",
    " - типы данных в таблице;\n",
    " - выведены для визуального контроля первые записи таблицы;"
   ]
  },
  {
   "cell_type": "code",
   "execution_count": 14,
   "id": "2bd3e346-5647-4431-971f-8aa249fb733c",
   "metadata": {
    "tags": []
   },
   "outputs": [
    {
     "name": "stdout",
     "output_type": "stream",
     "text": [
      "<class 'pandas.core.frame.DataFrame'>\n",
      "RangeIndex: 39500 entries, 0 to 39499\n",
      "Data columns (total 20 columns):\n",
      " #   Column        Non-Null Count  Dtype         \n",
      "---  ------        --------------  -----         \n",
      " 0   id_result     39500 non-null  int64         \n",
      " 1   id_scales     39500 non-null  int64         \n",
      " 2   id_marriag    39500 non-null  int64         \n",
      " 3   trnum_in      39500 non-null  int64         \n",
      " 4   trnum_out     39500 non-null  int64         \n",
      " 5   invnum_in     39500 non-null  int64         \n",
      " 6   invnum_out    39500 non-null  int64         \n",
      " 7   num_in        39500 non-null  int64         \n",
      " 8   num_out       39500 non-null  int64         \n",
      " 9   date_in       39500 non-null  datetime64[ns]\n",
      " 10  date_out      37803 non-null  datetime64[ns]\n",
      " 11  date_marriag  2590 non-null   datetime64[ns]\n",
      " 12  deltatetime   39500 non-null  object        \n",
      " 13  tare_in       39500 non-null  int64         \n",
      " 14  tare_out      39500 non-null  int64         \n",
      " 15  brutto        39500 non-null  int64         \n",
      " 16  netto         39500 non-null  int64         \n",
      " 17  deltaweight   39500 non-null  int64         \n",
      " 18  nact          39500 non-null  int64         \n",
      " 19  reason        2590 non-null   object        \n",
      "dtypes: datetime64[ns](3), int64(15), object(2)\n",
      "memory usage: 6.0+ MB\n"
     ]
    }
   ],
   "source": [
    "# Сводная информация по таблице 'join_table'\n",
    "join_table.info()"
   ]
  },
  {
   "cell_type": "code",
   "execution_count": 17,
   "id": "8d08bd37-17e3-40cc-8738-752cc5fd2eac",
   "metadata": {},
   "outputs": [
    {
     "data": {
      "text/plain": [
       "39500"
      ]
     },
     "execution_count": 17,
     "metadata": {},
     "output_type": "execute_result"
    }
   ],
   "source": [
    "# Общее количество записей таблицы 'join_table'\n",
    "len(join_table)"
   ]
  },
  {
   "cell_type": "code",
   "execution_count": 90,
   "id": "421080c6-1b8d-4327-93c0-b2fe0ecea914",
   "metadata": {},
   "outputs": [
    {
     "data": {
      "text/html": [
       "<div>\n",
       "<style scoped>\n",
       "    .dataframe tbody tr th:only-of-type {\n",
       "        vertical-align: middle;\n",
       "    }\n",
       "\n",
       "    .dataframe tbody tr th {\n",
       "        vertical-align: top;\n",
       "    }\n",
       "\n",
       "    .dataframe thead th {\n",
       "        text-align: right;\n",
       "    }\n",
       "</style>\n",
       "<table border=\"1\" class=\"dataframe\">\n",
       "  <thead>\n",
       "    <tr style=\"text-align: right;\">\n",
       "      <th></th>\n",
       "      <th>id_result</th>\n",
       "      <th>id_scales</th>\n",
       "      <th>id_marriag</th>\n",
       "      <th>trnum_in</th>\n",
       "      <th>trnum_out</th>\n",
       "      <th>invnum_in</th>\n",
       "      <th>invnum_out</th>\n",
       "      <th>num_in</th>\n",
       "      <th>num_out</th>\n",
       "      <th>date_in</th>\n",
       "      <th>date_out</th>\n",
       "      <th>date_marriag</th>\n",
       "      <th>deltatetime</th>\n",
       "      <th>tare_in</th>\n",
       "      <th>tare_out</th>\n",
       "      <th>brutto</th>\n",
       "      <th>netto</th>\n",
       "      <th>deltaweight</th>\n",
       "      <th>nact</th>\n",
       "      <th>reason</th>\n",
       "    </tr>\n",
       "  </thead>\n",
       "  <tbody>\n",
       "    <tr>\n",
       "      <th>0</th>\n",
       "      <td>2</td>\n",
       "      <td>0</td>\n",
       "      <td>0</td>\n",
       "      <td>688588</td>\n",
       "      <td>0</td>\n",
       "      <td>55344592</td>\n",
       "      <td>0</td>\n",
       "      <td>1</td>\n",
       "      <td>0</td>\n",
       "      <td>2022-01-26 04:19:00</td>\n",
       "      <td>NaT</td>\n",
       "      <td>NaT</td>\n",
       "      <td></td>\n",
       "      <td>25300</td>\n",
       "      <td>0</td>\n",
       "      <td>0</td>\n",
       "      <td>0</td>\n",
       "      <td>0</td>\n",
       "      <td>0</td>\n",
       "      <td>None</td>\n",
       "    </tr>\n",
       "    <tr>\n",
       "      <th>1</th>\n",
       "      <td>3</td>\n",
       "      <td>0</td>\n",
       "      <td>0</td>\n",
       "      <td>688588</td>\n",
       "      <td>0</td>\n",
       "      <td>75081042</td>\n",
       "      <td>0</td>\n",
       "      <td>2</td>\n",
       "      <td>0</td>\n",
       "      <td>2022-01-26 04:19:00</td>\n",
       "      <td>NaT</td>\n",
       "      <td>NaT</td>\n",
       "      <td></td>\n",
       "      <td>27350</td>\n",
       "      <td>0</td>\n",
       "      <td>0</td>\n",
       "      <td>0</td>\n",
       "      <td>0</td>\n",
       "      <td>0</td>\n",
       "      <td>None</td>\n",
       "    </tr>\n",
       "    <tr>\n",
       "      <th>2</th>\n",
       "      <td>4</td>\n",
       "      <td>0</td>\n",
       "      <td>0</td>\n",
       "      <td>688588</td>\n",
       "      <td>0</td>\n",
       "      <td>73071847</td>\n",
       "      <td>0</td>\n",
       "      <td>3</td>\n",
       "      <td>0</td>\n",
       "      <td>2022-01-26 04:19:00</td>\n",
       "      <td>NaT</td>\n",
       "      <td>NaT</td>\n",
       "      <td></td>\n",
       "      <td>90250</td>\n",
       "      <td>0</td>\n",
       "      <td>0</td>\n",
       "      <td>0</td>\n",
       "      <td>0</td>\n",
       "      <td>0</td>\n",
       "      <td>None</td>\n",
       "    </tr>\n",
       "    <tr>\n",
       "      <th>3</th>\n",
       "      <td>5</td>\n",
       "      <td>0</td>\n",
       "      <td>0</td>\n",
       "      <td>688588</td>\n",
       "      <td>0</td>\n",
       "      <td>55303630</td>\n",
       "      <td>0</td>\n",
       "      <td>4</td>\n",
       "      <td>0</td>\n",
       "      <td>2022-01-26 04:19:00</td>\n",
       "      <td>NaT</td>\n",
       "      <td>NaT</td>\n",
       "      <td></td>\n",
       "      <td>89950</td>\n",
       "      <td>0</td>\n",
       "      <td>0</td>\n",
       "      <td>0</td>\n",
       "      <td>0</td>\n",
       "      <td>0</td>\n",
       "      <td>None</td>\n",
       "    </tr>\n",
       "    <tr>\n",
       "      <th>4</th>\n",
       "      <td>6</td>\n",
       "      <td>0</td>\n",
       "      <td>0</td>\n",
       "      <td>688588</td>\n",
       "      <td>0</td>\n",
       "      <td>54253448</td>\n",
       "      <td>0</td>\n",
       "      <td>5</td>\n",
       "      <td>0</td>\n",
       "      <td>2022-01-26 04:20:00</td>\n",
       "      <td>NaT</td>\n",
       "      <td>NaT</td>\n",
       "      <td></td>\n",
       "      <td>90800</td>\n",
       "      <td>0</td>\n",
       "      <td>0</td>\n",
       "      <td>0</td>\n",
       "      <td>0</td>\n",
       "      <td>0</td>\n",
       "      <td>None</td>\n",
       "    </tr>\n",
       "  </tbody>\n",
       "</table>\n",
       "</div>"
      ],
      "text/plain": [
       "   id_result  id_scales  id_marriag  trnum_in  trnum_out  invnum_in  \\\n",
       "0          2          0           0    688588          0   55344592   \n",
       "1          3          0           0    688588          0   75081042   \n",
       "2          4          0           0    688588          0   73071847   \n",
       "3          5          0           0    688588          0   55303630   \n",
       "4          6          0           0    688588          0   54253448   \n",
       "\n",
       "   invnum_out  num_in  num_out             date_in date_out date_marriag  \\\n",
       "0           0       1        0 2022-01-26 04:19:00      NaT          NaT   \n",
       "1           0       2        0 2022-01-26 04:19:00      NaT          NaT   \n",
       "2           0       3        0 2022-01-26 04:19:00      NaT          NaT   \n",
       "3           0       4        0 2022-01-26 04:19:00      NaT          NaT   \n",
       "4           0       5        0 2022-01-26 04:20:00      NaT          NaT   \n",
       "\n",
       "  deltatetime  tare_in  tare_out  brutto  netto  deltaweight  nact reason  \n",
       "0                25300         0       0      0            0     0   None  \n",
       "1                27350         0       0      0            0     0   None  \n",
       "2                90250         0       0      0            0     0   None  \n",
       "3                89950         0       0      0            0     0   None  \n",
       "4                90800         0       0      0            0     0   None  "
      ]
     },
     "execution_count": 90,
     "metadata": {},
     "output_type": "execute_result"
    }
   ],
   "source": [
    "# Первые значения таблицы 'join_table'\n",
    "join_table.head(5)"
   ]
  },
  {
   "cell_type": "markdown",
   "id": "ea940d34-2a0a-4c82-882b-f1ec3c6aa4eb",
   "metadata": {
    "tags": []
   },
   "source": [
    "### БЛОК СОХРАНЕНИЯ РЕШЕНИЯ ЗАДАЧИ ПО МЕТОДУ 'ВЕТКА 1' В CSV ФАЙЛ  \n",
    "---\n",
    " - на выходе получаем CSV файл сгенерированный в соответствии с логикой 'ВЕТКА 1'"
   ]
  },
  {
   "cell_type": "code",
   "execution_count": 18,
   "id": "bc6ed8b6-ea71-482d-94b9-2ea58b3ccb22",
   "metadata": {},
   "outputs": [],
   "source": [
    "# Подготовить переменную с именем результирующего CSV файла\n",
    "file_name_join = '05__result-table-branch1.csv'\n",
    "path_file_join = Path(dir_path,'res', 'data', file_name_join)\n",
    "\n",
    "# Записать в данные в файл\n",
    "join_table.to_csv(str(path_file_join), index=False, sep=';', encoding='utf-8')\n"
   ]
  },
  {
   "cell_type": "markdown",
   "id": "7317cb40-01a5-402f-9073-276964c15177",
   "metadata": {
    "tags": []
   },
   "source": [
    "### БЛОК ТЕСТОВЫХ ФИЛЬТРОВ ДЛЯ ПРОСМОТРА РЕЗУЛЬТАТА В СООТВЕТСТВИИ С РАЗНЫМИ КРИТЕРИЯМИ  \n",
    "---"
   ]
  },
  {
   "cell_type": "code",
   "execution_count": 19,
   "id": "a879ea90-b9a9-4a28-b51a-1e1dc2f73738",
   "metadata": {},
   "outputs": [],
   "source": [
    "# Набор условий для отбора показательных срезов для таблицы join_table\n",
    "s_con_1 = abs(scales_out['deltaweight']) < scales_out['tare']*0.3 #дельта груза в пределах X% от массы вагона с пустой цистерной\n",
    "s_con_2 = scales_out['deltaweight'] != scales_out['netto'] #моя дельта не равна дельте программы весов\n",
    "s_con_3 = scales_out['netto'] != 0 #нетто не равно нулю\n",
    "s_con_4 = scales_out['deltaweight']  < 0 #дельта груза отрицательная\n",
    "s_con_5 = scales_out['deltaweight']  > 0 #дельта груза положительная\n",
    "s_con_6 = scales_out['deltaweight'] != 0 #дельта груза не равна 0"
   ]
  },
  {
   "cell_type": "code",
   "execution_count": 20,
   "id": "365e0bc8-2ed2-49bb-a865-3990031b99cd",
   "metadata": {},
   "outputs": [
    {
     "data": {
      "text/plain": [
       "2590"
      ]
     },
     "execution_count": 20,
     "metadata": {},
     "output_type": "execute_result"
    }
   ],
   "source": [
    "# Набор условий для отбора показательных срезов для таблицы join_table\n",
    "j_con_1 = join_table['date_marriag'].notnull() #отбор не нулевых данных\n",
    "len(join_table[j_con_1])"
   ]
  },
  {
   "cell_type": "code",
   "execution_count": 21,
   "id": "9601179d-e950-468a-a26e-5649e239b4b1",
   "metadata": {},
   "outputs": [
    {
     "data": {
      "text/html": [
       "<div>\n",
       "<style scoped>\n",
       "    .dataframe tbody tr th:only-of-type {\n",
       "        vertical-align: middle;\n",
       "    }\n",
       "\n",
       "    .dataframe tbody tr th {\n",
       "        vertical-align: top;\n",
       "    }\n",
       "\n",
       "    .dataframe thead th {\n",
       "        text-align: right;\n",
       "    }\n",
       "</style>\n",
       "<table border=\"1\" class=\"dataframe\">\n",
       "  <thead>\n",
       "    <tr style=\"text-align: right;\">\n",
       "      <th></th>\n",
       "      <th>id_scales</th>\n",
       "      <th>trnum</th>\n",
       "      <th>invnum</th>\n",
       "      <th>num</th>\n",
       "      <th>bdatetime</th>\n",
       "      <th>tare</th>\n",
       "      <th>brutto</th>\n",
       "      <th>netto</th>\n",
       "      <th>deltaweight</th>\n",
       "    </tr>\n",
       "  </thead>\n",
       "  <tbody>\n",
       "    <tr>\n",
       "      <th>81</th>\n",
       "      <td>83</td>\n",
       "      <td>683563</td>\n",
       "      <td>75107136</td>\n",
       "      <td>1</td>\n",
       "      <td>2022-01-01 17:48:00</td>\n",
       "      <td>24800</td>\n",
       "      <td>25000</td>\n",
       "      <td>200</td>\n",
       "      <td>200</td>\n",
       "    </tr>\n",
       "    <tr>\n",
       "      <th>82</th>\n",
       "      <td>84</td>\n",
       "      <td>683563</td>\n",
       "      <td>50643741</td>\n",
       "      <td>2</td>\n",
       "      <td>2022-01-01 17:48:00</td>\n",
       "      <td>23900</td>\n",
       "      <td>23950</td>\n",
       "      <td>50</td>\n",
       "      <td>50</td>\n",
       "    </tr>\n",
       "    <tr>\n",
       "      <th>97</th>\n",
       "      <td>99</td>\n",
       "      <td>683563</td>\n",
       "      <td>51783413</td>\n",
       "      <td>17</td>\n",
       "      <td>2022-01-01 17:52:00</td>\n",
       "      <td>26900</td>\n",
       "      <td>27200</td>\n",
       "      <td>300</td>\n",
       "      <td>300</td>\n",
       "    </tr>\n",
       "    <tr>\n",
       "      <th>161</th>\n",
       "      <td>163</td>\n",
       "      <td>683643</td>\n",
       "      <td>54245592</td>\n",
       "      <td>1</td>\n",
       "      <td>2022-01-02 02:01:00</td>\n",
       "      <td>26900</td>\n",
       "      <td>27150</td>\n",
       "      <td>250</td>\n",
       "      <td>250</td>\n",
       "    </tr>\n",
       "    <tr>\n",
       "      <th>162</th>\n",
       "      <td>164</td>\n",
       "      <td>683643</td>\n",
       "      <td>54246533</td>\n",
       "      <td>2</td>\n",
       "      <td>2022-01-02 02:01:00</td>\n",
       "      <td>27350</td>\n",
       "      <td>27100</td>\n",
       "      <td>0</td>\n",
       "      <td>-250</td>\n",
       "    </tr>\n",
       "  </tbody>\n",
       "</table>\n",
       "</div>"
      ],
      "text/plain": [
       "     id_scales   trnum    invnum  num           bdatetime   tare  brutto  \\\n",
       "81          83  683563  75107136    1 2022-01-01 17:48:00  24800   25000   \n",
       "82          84  683563  50643741    2 2022-01-01 17:48:00  23900   23950   \n",
       "97          99  683563  51783413   17 2022-01-01 17:52:00  26900   27200   \n",
       "161        163  683643  54245592    1 2022-01-02 02:01:00  26900   27150   \n",
       "162        164  683643  54246533    2 2022-01-02 02:01:00  27350   27100   \n",
       "\n",
       "     netto  deltaweight  \n",
       "81     200          200  \n",
       "82      50           50  \n",
       "97     300          300  \n",
       "161    250          250  \n",
       "162      0         -250  "
      ]
     },
     "execution_count": 21,
     "metadata": {},
     "output_type": "execute_result"
    }
   ],
   "source": [
    "# Вывести значения нетто и дельты массы которые укладываются в s_con_1 % от массы порожнего вагона\n",
    "scales_out[s_con_1 & s_con_6].head(5)"
   ]
  },
  {
   "cell_type": "code",
   "execution_count": 22,
   "id": "d1a89cd4-6911-4555-9252-4574f969f538",
   "metadata": {},
   "outputs": [
    {
     "data": {
      "text/plain": [
       "{'Количество +': 1524, 'Количество -': 1060, '% +': 59, '% -': 41}"
      ]
     },
     "execution_count": 22,
     "metadata": {},
     "output_type": "execute_result"
    }
   ],
   "source": [
    "#Вывести соотношение положительных и отрицательных дельт масс\n",
    "prop = {'Количество +':len( scales_out[ s_con_1 & s_con_5 ] ), \n",
    "        'Количество -': len( scales_out[ s_con_4 ] ),\n",
    "        '% +': round((len(scales_out[s_con_1 & s_con_5])/(len(scales_out[s_con_1 & s_con_5])+len(scales_out[ s_con_4 ])))*100),\n",
    "        '% -': round((len(scales_out[ s_con_4 ])/(len(scales_out[s_con_1 & s_con_5])+len(scales_out[ s_con_4 ])))*100)}\n",
    "prop"
   ]
  },
  {
   "cell_type": "code",
   "execution_count": 151,
   "id": "d12e40a7-17cf-4357-aa18-a158f9901c82",
   "metadata": {},
   "outputs": [
    {
     "data": {
      "text/plain": [
       "4.199999999999999"
      ]
     },
     "execution_count": 151,
     "metadata": {},
     "output_type": "execute_result"
    }
   ],
   "source": [
    "# Скорость налива цистерн/12 часов при насосе 350 кг/мин\n",
    "x=(12*0.35)\n",
    "x"
   ]
  },
  {
   "cell_type": "markdown",
   "id": "f3b387fd-416a-48ab-b0b9-667e404ac5f6",
   "metadata": {
    "jp-MarkdownHeadingCollapsed": true,
    "tags": []
   },
   "source": [
    "## ВЕТКА 2  \n",
    "---\n",
    "РЕШЕНИЕ ЗАДАЧИ ЧЕРЕЗ НЕ ЯВНО СУЩЕСТВУЮЩИЕ ПРИЗНАКИ. ДЛЯ РЕШЕНИЯ ВВОДИТСЯ И ИСПОЛЬЗУЕТСЯ ПОНЯТИЕ HASH ЗНАЧЕНИЯ"
   ]
  },
  {
   "cell_type": "markdown",
   "id": "024ed670-7172-498e-a4a0-3fbe7a2c1150",
   "metadata": {
    "tags": []
   },
   "source": [
    "### ГРУППИРОВКА ДАННЫХ В DATAFRAMES scales_in И scales_out  \n",
    "---\n",
    "В данном блоке производится группировка записей таблиц 'scales_in' и 'scales_out' для получения сгруппированных по значению номера состава 'trnum' записей. Это нужно для достижения нескольких целей:\n",
    "1. определения количества составов отдельно в таблицах **въехавших** и **выехавших** составов;\n",
    "2. подготовка данных в обеих таблицах к такой форме хранения которая позволит эффективно вычислить **hash** значения;\n",
    "3. вычисления комплексных характеристик каждого состава в обеих таблицах - **hash** значения;\n",
    "\n",
    "Выработка требований к **hash** значению - нам потребуется определить такую группу характеристик которая атомарно представляет **уникальную** характеристику состава, причем должна имется 100% возможность получить такую группу как в таблице **въехавших** составах так и в таблице **выехавших** составов. Это требование должно не укоснительно выполняться, так как в дальнейшем полученный слепок состава - **hash** значение должно стать идентификатором по которому будет искаться совпадение и далее проводиться объединение данных по идентичным составам из обеих таблиц.  \n",
    "В качестве такого группового признака который имперически определен как абсолютно не повторяемый ни при каких условиях - последовательность значений номеров состава а также (одновременно) позиционный номер вагона в составе, т.е. математическая последовательность значений номеров вагонов. Для упрощения кода, фактор порядкового номера был заменен на не явный, а именно перед вычислением **hash** значения номера вагонов превращены в текстовые значения и произведена конкатенация строго в той последовательности в которой вагоны шли в составе. В итоге входным параметром функции-генератора **hash** значения стала тестовая строка состаящая из непрерывно сцепленных значений текстовых эквивалентов номеров вагонов.  \n",
    "В качестве функции-генератора **hash** значения применена - **MD5**"
   ]
  },
  {
   "cell_type": "code",
   "execution_count": 48,
   "id": "a3e331fd-b8da-43b4-9b50-30a79a52ff98",
   "metadata": {},
   "outputs": [
    {
     "data": {
      "text/html": [
       "<div>\n",
       "<style scoped>\n",
       "    .dataframe tbody tr th:only-of-type {\n",
       "        vertical-align: middle;\n",
       "    }\n",
       "\n",
       "    .dataframe tbody tr th {\n",
       "        vertical-align: top;\n",
       "    }\n",
       "\n",
       "    .dataframe thead th {\n",
       "        text-align: right;\n",
       "    }\n",
       "</style>\n",
       "<table border=\"1\" class=\"dataframe\">\n",
       "  <thead>\n",
       "    <tr style=\"text-align: right;\">\n",
       "      <th></th>\n",
       "      <th>id_scales</th>\n",
       "      <th>trnum</th>\n",
       "      <th>invnum</th>\n",
       "      <th>num</th>\n",
       "      <th>bdatetime</th>\n",
       "      <th>tare</th>\n",
       "      <th>brutto</th>\n",
       "      <th>netto</th>\n",
       "      <th>deltaweight</th>\n",
       "    </tr>\n",
       "  </thead>\n",
       "  <tbody>\n",
       "  </tbody>\n",
       "</table>\n",
       "</div>"
      ],
      "text/plain": [
       "Empty DataFrame\n",
       "Columns: [id_scales, trnum, invnum, num, bdatetime, tare, brutto, netto, deltaweight]\n",
       "Index: []"
      ]
     },
     "execution_count": 48,
     "metadata": {},
     "output_type": "execute_result"
    }
   ],
   "source": [
    "# Вывести первые 3 записи (до группировки) комплементарных групп которе далее должны сгруппироваться а далее объединиться\n",
    "# это требуется для визуального контроля\n",
    "scales_in[ scales_in['trnum'] == 683482 ].sort_values(by='num').head(3)"
   ]
  },
  {
   "cell_type": "code",
   "execution_count": 49,
   "id": "362f4230-aa65-4ef2-a374-ba4710ac4d68",
   "metadata": {},
   "outputs": [
    {
     "data": {
      "text/html": [
       "<div>\n",
       "<style scoped>\n",
       "    .dataframe tbody tr th:only-of-type {\n",
       "        vertical-align: middle;\n",
       "    }\n",
       "\n",
       "    .dataframe tbody tr th {\n",
       "        vertical-align: top;\n",
       "    }\n",
       "\n",
       "    .dataframe thead th {\n",
       "        text-align: right;\n",
       "    }\n",
       "</style>\n",
       "<table border=\"1\" class=\"dataframe\">\n",
       "  <thead>\n",
       "    <tr style=\"text-align: right;\">\n",
       "      <th></th>\n",
       "      <th>id_scales</th>\n",
       "      <th>trnum</th>\n",
       "      <th>invnum</th>\n",
       "      <th>num</th>\n",
       "      <th>bdatetime</th>\n",
       "      <th>tare</th>\n",
       "      <th>brutto</th>\n",
       "      <th>netto</th>\n",
       "      <th>deltaweight</th>\n",
       "    </tr>\n",
       "  </thead>\n",
       "  <tbody>\n",
       "  </tbody>\n",
       "</table>\n",
       "</div>"
      ],
      "text/plain": [
       "Empty DataFrame\n",
       "Columns: [id_scales, trnum, invnum, num, bdatetime, tare, brutto, netto, deltaweight]\n",
       "Index: []"
      ]
     },
     "execution_count": 49,
     "metadata": {},
     "output_type": "execute_result"
    }
   ],
   "source": [
    "# Вывести первые 3 записи (до группировки) комплементарных групп которе далее должны сгруппироваться а далее объединиться\n",
    "# это требуется для визуального контроля\n",
    "scales_out[ scales_out['trnum'] == 683563 ].sort_values(by='num').head(3)"
   ]
  },
  {
   "cell_type": "code",
   "execution_count": 50,
   "id": "2d68e1f4-4136-4d29-a463-7558bd964069",
   "metadata": {},
   "outputs": [],
   "source": [
    "# Произвести группировку по номеру состава ('trnum')\n",
    "gr_scales_in = scales_in.groupby('trnum')\n",
    "gr_scales_out = scales_out.groupby('trnum')"
   ]
  },
  {
   "cell_type": "code",
   "execution_count": 51,
   "id": "8822ab40-aeca-4754-8e54-9c7fe4d39ea9",
   "metadata": {},
   "outputs": [
    {
     "name": "stdout",
     "output_type": "stream",
     "text": [
      "178 - количество уникальных составов типа - IN\n",
      "154 - количество уникальных составов типа - OUT\n",
      "24 - разница IN и OUT составов\n"
     ]
    }
   ],
   "source": [
    "print(gr_scales_in.ngroups, '- количество уникальных составов типа - IN') # количество уникальных составов типа - IN \n",
    "print(gr_scales_out.ngroups,'- количество уникальных составов типа - OUT') # количество уникальных составов типа - OUT \n",
    "print(gr_scales_in.ngroups - gr_scales_out.ngroups, '- разница IN и OUT составов') # разница  IN и OUT составов"
   ]
  },
  {
   "cell_type": "markdown",
   "id": "6a8153b3-0d3c-47c4-9654-b616fa4eb160",
   "metadata": {
    "tags": []
   },
   "source": [
    "### БЛОК ГЕНЕРАЦИИ HASH ЗНАЧЕНИЙ  \n",
    "---"
   ]
  },
  {
   "cell_type": "code",
   "execution_count": 52,
   "id": "37854364-0880-4942-867d-8291118055b7",
   "metadata": {},
   "outputs": [],
   "source": [
    "# Функция вычисляет hash значение группы\n",
    "def HashRow(_df):\n",
    "    \n",
    "    hash_total_str = ''\n",
    "    \n",
    "    df = _df.sort_values(by='num', ascending=True)\n",
    "    # Перебрать все строки текущей группы, получить текстовый объект hash всех номеров вагонов группы\n",
    "    for data in df.itertuples():\n",
    "        hash_total_str += str(data[3])\n",
    "    \n",
    "    hash_object = hs.md5(hash_total_str.encode('utf-8'))\n",
    "    #return int(hash_object.hexdigest(), 16)\n",
    "    return hash_object.hexdigest()\n",
    "\n",
    "# Функция выпоняет перебор всех групп и вызывает функцию вычисления hash значения группы\n",
    "def HashGroup(_df):\n",
    "    \n",
    "    hash_dict = {} # Словарь хранящий пару 'Номер состава: hash состава'\n",
    "    cycle = 0\n",
    "    \n",
    "    # Перебраить все группы сгруппированого DataFrame\n",
    "    for name, group in _df:\n",
    "        if cycle>0:\n",
    "            break\n",
    "        hash_dict[name] = HashRow(group) # Для каждой группы вызвать hash функцию\n",
    "    return hash_dict"
   ]
  },
  {
   "cell_type": "code",
   "execution_count": 53,
   "id": "501c6a39-a45c-44af-827f-843f6d10fa70",
   "metadata": {},
   "outputs": [],
   "source": [
    "# Сгенерировать словари с hash значениями групп составовs\n",
    "hash_dict_in  = HashGroup(gr_scales_in)\n",
    "hash_dict_out = HashGroup(gr_scales_out)\n",
    "\n",
    "# Преобразовать dictonari в DataFrame\n",
    "hash_df_in = pd.DataFrame(hash_dict_in.items(), columns=['trnum', 'hash_group'])\n",
    "hash_df_out = pd.DataFrame(hash_dict_out.items(), columns=['trnum', 'hash_group'])"
   ]
  },
  {
   "cell_type": "markdown",
   "id": "f9235547-17ad-4d7d-9c15-b10227b5b5fd",
   "metadata": {
    "tags": []
   },
   "source": [
    "### БЛОК ВИЗУАЛИЗАЦИИ ХАРАКТЕРИСТИК РЕЗУЛЬТИРУЮЩЕЙ ТАБЛИЦ HASH ЗНАЧЕНИЙ 'hash_df_in' И 'hash_df_out'  \n",
    "---\n",
    "В данном блоке выводятся на печать основные интегральные характеристики таблицы:\n",
    " - количестве записей в таблице;\n",
    " - выведены для визуального контроля первые записи таблицы;"
   ]
  },
  {
   "cell_type": "code",
   "execution_count": 54,
   "id": "b9996f42-e7cb-486c-a65f-f84a9c57cca9",
   "metadata": {
    "tags": []
   },
   "outputs": [
    {
     "data": {
      "text/html": [
       "<div>\n",
       "<style scoped>\n",
       "    .dataframe tbody tr th:only-of-type {\n",
       "        vertical-align: middle;\n",
       "    }\n",
       "\n",
       "    .dataframe tbody tr th {\n",
       "        vertical-align: top;\n",
       "    }\n",
       "\n",
       "    .dataframe thead th {\n",
       "        text-align: right;\n",
       "    }\n",
       "</style>\n",
       "<table border=\"1\" class=\"dataframe\">\n",
       "  <thead>\n",
       "    <tr style=\"text-align: right;\">\n",
       "      <th></th>\n",
       "      <th>trnum</th>\n",
       "      <th>hash_group</th>\n",
       "    </tr>\n",
       "  </thead>\n",
       "  <tbody>\n",
       "    <tr>\n",
       "      <th>0</th>\n",
       "      <td>761304</td>\n",
       "      <td>754875f74fbd809411651574e4ddeb73</td>\n",
       "    </tr>\n",
       "    <tr>\n",
       "      <th>1</th>\n",
       "      <td>761385</td>\n",
       "      <td>d35ed09492358eebca63cd5b274108b0</td>\n",
       "    </tr>\n",
       "    <tr>\n",
       "      <th>2</th>\n",
       "      <td>761426</td>\n",
       "      <td>e37b33865e92228d247b74e867ffd5b9</td>\n",
       "    </tr>\n",
       "  </tbody>\n",
       "</table>\n",
       "</div>"
      ],
      "text/plain": [
       "    trnum                        hash_group\n",
       "0  761304  754875f74fbd809411651574e4ddeb73\n",
       "1  761385  d35ed09492358eebca63cd5b274108b0\n",
       "2  761426  e37b33865e92228d247b74e867ffd5b9"
      ]
     },
     "execution_count": 54,
     "metadata": {},
     "output_type": "execute_result"
    }
   ],
   "source": [
    "# Вывести первые записи таблицы 'hash_df_in' для визуального контроля\n",
    "hash_df_in.head(3)"
   ]
  },
  {
   "cell_type": "code",
   "execution_count": 19,
   "id": "fe849b8b-69d1-48e0-83e7-2c913a9669d0",
   "metadata": {
    "tags": []
   },
   "outputs": [
    {
     "data": {
      "text/html": [
       "<div>\n",
       "<style scoped>\n",
       "    .dataframe tbody tr th:only-of-type {\n",
       "        vertical-align: middle;\n",
       "    }\n",
       "\n",
       "    .dataframe tbody tr th {\n",
       "        vertical-align: top;\n",
       "    }\n",
       "\n",
       "    .dataframe thead th {\n",
       "        text-align: right;\n",
       "    }\n",
       "</style>\n",
       "<table border=\"1\" class=\"dataframe\">\n",
       "  <thead>\n",
       "    <tr style=\"text-align: right;\">\n",
       "      <th></th>\n",
       "      <th>trnum</th>\n",
       "      <th>hash_group</th>\n",
       "    </tr>\n",
       "  </thead>\n",
       "  <tbody>\n",
       "    <tr>\n",
       "      <th>0</th>\n",
       "      <td>761345</td>\n",
       "      <td>2eaaa69c379869720e5fad57e6afa228</td>\n",
       "    </tr>\n",
       "    <tr>\n",
       "      <th>1</th>\n",
       "      <td>761426</td>\n",
       "      <td>754875f74fbd809411651574e4ddeb73</td>\n",
       "    </tr>\n",
       "    <tr>\n",
       "      <th>2</th>\n",
       "      <td>761586</td>\n",
       "      <td>2fb734e9b08d3ea1a276810389556334</td>\n",
       "    </tr>\n",
       "  </tbody>\n",
       "</table>\n",
       "</div>"
      ],
      "text/plain": [
       "    trnum                        hash_group\n",
       "0  761345  2eaaa69c379869720e5fad57e6afa228\n",
       "1  761426  754875f74fbd809411651574e4ddeb73\n",
       "2  761586  2fb734e9b08d3ea1a276810389556334"
      ]
     },
     "execution_count": 19,
     "metadata": {},
     "output_type": "execute_result"
    }
   ],
   "source": [
    "# Вывести первые записи таблицы 'hash_df_out' для визуального контроля\n",
    "hash_df_out.head(3)"
   ]
  },
  {
   "cell_type": "markdown",
   "id": "ee5e77ed-7b72-4cde-8f04-11a04fa085b3",
   "metadata": {
    "tags": []
   },
   "source": [
    "### БЛОК СОЕДИНЕНИЯ ТАБЛИЦ 'scales_in','scales_out' С СООТВЕТСТВУЮЩИМИ ТАБЛИЦАМИ HASH ЗНАЧЕНИЙ  \n",
    "---"
   ]
  },
  {
   "cell_type": "code",
   "execution_count": 55,
   "id": "3466b846-46e3-4172-8325-91d0259a9168",
   "metadata": {},
   "outputs": [],
   "source": [
    "# Выполнить левое соединение таблиц 'scales_hash_in', 'scales_hash_out' с соответствующими таблицами hash значений\n",
    "scales_hash_in = scales_in.merge(hash_df_in, on='trnum', how='left')\n",
    "scales_hash_out = scales_out.merge(hash_df_out, on='trnum', how='left')"
   ]
  },
  {
   "cell_type": "markdown",
   "id": "5aa067a6-03e8-4786-833b-72023e89deda",
   "metadata": {
    "tags": []
   },
   "source": [
    "### БЛОК ВИЗУАЛИЗАЦИИ ХАРАКТЕРИСТИК РЕЗУЛЬТИРУЮЩЕЙ ТАБЛИЦ HASH ЗНАЧЕНИЙ 'scales_hash_in' И 'scales_hash_out'  \n",
    "---\n",
    "В данном блоке выводятся на печать основные интегральные характеристики таблицы:\n",
    " - количестве записей в таблице;\n",
    " - выведены для визуального контроля первые записи таблицы;"
   ]
  },
  {
   "cell_type": "code",
   "execution_count": 56,
   "id": "aac5aa24-3832-4d72-9157-547d5735e1b6",
   "metadata": {},
   "outputs": [
    {
     "data": {
      "text/html": [
       "<div>\n",
       "<style scoped>\n",
       "    .dataframe tbody tr th:only-of-type {\n",
       "        vertical-align: middle;\n",
       "    }\n",
       "\n",
       "    .dataframe tbody tr th {\n",
       "        vertical-align: top;\n",
       "    }\n",
       "\n",
       "    .dataframe thead th {\n",
       "        text-align: right;\n",
       "    }\n",
       "</style>\n",
       "<table border=\"1\" class=\"dataframe\">\n",
       "  <thead>\n",
       "    <tr style=\"text-align: right;\">\n",
       "      <th></th>\n",
       "      <th>id_scales</th>\n",
       "      <th>trnum</th>\n",
       "      <th>invnum</th>\n",
       "      <th>num</th>\n",
       "      <th>bdatetime</th>\n",
       "      <th>tare</th>\n",
       "      <th>brutto</th>\n",
       "      <th>netto</th>\n",
       "      <th>deltaweight</th>\n",
       "      <th>hash_group</th>\n",
       "    </tr>\n",
       "  </thead>\n",
       "  <tbody>\n",
       "    <tr>\n",
       "      <th>0</th>\n",
       "      <td>2</td>\n",
       "      <td>761304</td>\n",
       "      <td>73915704</td>\n",
       "      <td>41</td>\n",
       "      <td>2023-01-01 01:41:20</td>\n",
       "      <td>0</td>\n",
       "      <td>27100</td>\n",
       "      <td>0</td>\n",
       "      <td>27100</td>\n",
       "      <td>754875f74fbd809411651574e4ddeb73</td>\n",
       "    </tr>\n",
       "    <tr>\n",
       "      <th>1</th>\n",
       "      <td>3</td>\n",
       "      <td>761304</td>\n",
       "      <td>50919992</td>\n",
       "      <td>40</td>\n",
       "      <td>2023-01-01 01:41:36</td>\n",
       "      <td>0</td>\n",
       "      <td>26350</td>\n",
       "      <td>0</td>\n",
       "      <td>26350</td>\n",
       "      <td>754875f74fbd809411651574e4ddeb73</td>\n",
       "    </tr>\n",
       "    <tr>\n",
       "      <th>2</th>\n",
       "      <td>4</td>\n",
       "      <td>761304</td>\n",
       "      <td>50787738</td>\n",
       "      <td>39</td>\n",
       "      <td>2023-01-01 01:41:57</td>\n",
       "      <td>0</td>\n",
       "      <td>27550</td>\n",
       "      <td>0</td>\n",
       "      <td>27550</td>\n",
       "      <td>754875f74fbd809411651574e4ddeb73</td>\n",
       "    </tr>\n",
       "  </tbody>\n",
       "</table>\n",
       "</div>"
      ],
      "text/plain": [
       "   id_scales   trnum    invnum  num           bdatetime  tare  brutto  netto  \\\n",
       "0          2  761304  73915704   41 2023-01-01 01:41:20     0   27100      0   \n",
       "1          3  761304  50919992   40 2023-01-01 01:41:36     0   26350      0   \n",
       "2          4  761304  50787738   39 2023-01-01 01:41:57     0   27550      0   \n",
       "\n",
       "   deltaweight                        hash_group  \n",
       "0        27100  754875f74fbd809411651574e4ddeb73  \n",
       "1        26350  754875f74fbd809411651574e4ddeb73  \n",
       "2        27550  754875f74fbd809411651574e4ddeb73  "
      ]
     },
     "execution_count": 56,
     "metadata": {},
     "output_type": "execute_result"
    }
   ],
   "source": [
    "# Вывести первые записи для визуального контроля\n",
    "scales_hash_in.head(3)"
   ]
  },
  {
   "cell_type": "code",
   "execution_count": 38,
   "id": "4c4531df-ee99-45cc-9454-0e1dce2f67bf",
   "metadata": {
    "tags": []
   },
   "outputs": [
    {
     "data": {
      "text/plain": [
       "6527"
      ]
     },
     "execution_count": 38,
     "metadata": {},
     "output_type": "execute_result"
    }
   ],
   "source": [
    "# Вывести количество записей таблицы 'scales_hash_in'\n",
    "len(scales_hash_in)"
   ]
  },
  {
   "cell_type": "code",
   "execution_count": 39,
   "id": "8008f117-489e-422b-9f1c-9da8aef5122a",
   "metadata": {},
   "outputs": [
    {
     "data": {
      "text/html": [
       "<div>\n",
       "<style scoped>\n",
       "    .dataframe tbody tr th:only-of-type {\n",
       "        vertical-align: middle;\n",
       "    }\n",
       "\n",
       "    .dataframe tbody tr th {\n",
       "        vertical-align: top;\n",
       "    }\n",
       "\n",
       "    .dataframe thead th {\n",
       "        text-align: right;\n",
       "    }\n",
       "</style>\n",
       "<table border=\"1\" class=\"dataframe\">\n",
       "  <thead>\n",
       "    <tr style=\"text-align: right;\">\n",
       "      <th></th>\n",
       "      <th>id_scales</th>\n",
       "      <th>trnum</th>\n",
       "      <th>invnum</th>\n",
       "      <th>num</th>\n",
       "      <th>bdatetime</th>\n",
       "      <th>tare</th>\n",
       "      <th>brutto</th>\n",
       "      <th>netto</th>\n",
       "      <th>deltaweight</th>\n",
       "      <th>hash_group</th>\n",
       "    </tr>\n",
       "  </thead>\n",
       "  <tbody>\n",
       "    <tr>\n",
       "      <th>0</th>\n",
       "      <td>43</td>\n",
       "      <td>761345</td>\n",
       "      <td>57187395</td>\n",
       "      <td>1</td>\n",
       "      <td>2023-01-01 03:35:54</td>\n",
       "      <td>27850</td>\n",
       "      <td>28050</td>\n",
       "      <td>200</td>\n",
       "      <td>200</td>\n",
       "      <td>2eaaa69c379869720e5fad57e6afa228</td>\n",
       "    </tr>\n",
       "    <tr>\n",
       "      <th>1</th>\n",
       "      <td>44</td>\n",
       "      <td>761345</td>\n",
       "      <td>54240205</td>\n",
       "      <td>2</td>\n",
       "      <td>2023-01-01 03:36:11</td>\n",
       "      <td>27100</td>\n",
       "      <td>26950</td>\n",
       "      <td>0</td>\n",
       "      <td>-150</td>\n",
       "      <td>2eaaa69c379869720e5fad57e6afa228</td>\n",
       "    </tr>\n",
       "    <tr>\n",
       "      <th>2</th>\n",
       "      <td>45</td>\n",
       "      <td>761345</td>\n",
       "      <td>73090953</td>\n",
       "      <td>3</td>\n",
       "      <td>2023-01-01 03:36:27</td>\n",
       "      <td>27600</td>\n",
       "      <td>88900</td>\n",
       "      <td>61300</td>\n",
       "      <td>61300</td>\n",
       "      <td>2eaaa69c379869720e5fad57e6afa228</td>\n",
       "    </tr>\n",
       "  </tbody>\n",
       "</table>\n",
       "</div>"
      ],
      "text/plain": [
       "   id_scales   trnum    invnum  num           bdatetime   tare  brutto  netto  \\\n",
       "0         43  761345  57187395    1 2023-01-01 03:35:54  27850   28050    200   \n",
       "1         44  761345  54240205    2 2023-01-01 03:36:11  27100   26950      0   \n",
       "2         45  761345  73090953    3 2023-01-01 03:36:27  27600   88900  61300   \n",
       "\n",
       "   deltaweight                        hash_group  \n",
       "0          200  2eaaa69c379869720e5fad57e6afa228  \n",
       "1         -150  2eaaa69c379869720e5fad57e6afa228  \n",
       "2        61300  2eaaa69c379869720e5fad57e6afa228  "
      ]
     },
     "execution_count": 39,
     "metadata": {},
     "output_type": "execute_result"
    }
   ],
   "source": [
    "# Вывести первые записи для визуального контроля\n",
    "scales_hash_out.head(3)"
   ]
  },
  {
   "cell_type": "code",
   "execution_count": 40,
   "id": "a5a1f74f-1be9-4182-94ec-9cbdcd7e0ec9",
   "metadata": {
    "tags": []
   },
   "outputs": [
    {
     "data": {
      "text/plain": [
       "6213"
      ]
     },
     "execution_count": 40,
     "metadata": {},
     "output_type": "execute_result"
    }
   ],
   "source": [
    "# Вывести количество записей таблицы 'scales_hash_out'\n",
    "len(scales_hash_out)"
   ]
  },
  {
   "cell_type": "markdown",
   "id": "11fdb3c9-5c2c-4a04-ba02-42a9ae8ed038",
   "metadata": {
    "tags": []
   },
   "source": [
    "### БЛОК СОЕДИНЕНИЯ ЗАПИСЕЙ 'scales_hash_in' И 'scales_hash_out' ДЛЯ ПОЛУЧЕНИЯ ТАБЛИЦЫ 'scales_join_hash' КОТОРАЯ ХРАНИТ ОБЪЕДИНЕНЫЕ ЗАПИСИ ВЪЕХАВШИХ И ВЫЕХАВШИХ СОСТАВОВ.  \n",
    "#### АНАЛОГИЧНАЯ ТАБЛИЦА ПОЛУЧЕНА РАНЕЕ В ВЕТКЕ 1 ПО ОТЛИЧНОМУ ОТ ВЕТКЕ 2 АЛГОРИТМУ, А ИМЕННО БЕЗ ИСПОЛЬЗОВАНИЯ HASH ЗНАЧЕНИЙ\n",
    "---\n",
    "В данном блоке производится соединение записей таблиц 'scales_hash_in' и 'scales_hash_out'. Позже на основе результирующей таблицы 'scales_join_hash' будет записан результирующий выходной файл CSV файл, являющийся решением задачи.  \n",
    "Соединение производится по правилу LEFT JOIN с выполнением тройного условия. В данном случае у нас все три условия **четкие**, поэтому можно произвести объединение средствами библиотеки 'pandas', но из за экономии времени, единообразности технических решений ранее уже примененных в данной программе, а также гибкости компоновки сстолбцов итоговой таблицы, соединение будет производится средствами библиотеки 'pandassql', которая работает поверх 'pandas' и перегоняет (динамически) данные в SQL базу данных SQLite, далее позволяет выполнить преобразование с помощью команд SQL, а после обратно сохранить в объекты 'pandas' - DataFrames.\n",
    "Условия соединенеия подразумевают совпадения следующих полей обеих таблиц:  \n",
    " - 'invnum_out' и 'invnum';\n",
    " - 'num' обеих таблиц;\n",
    " - 'hash_group' обеих таблиц;\n",
    " - на выходе получаем таблицу 'scales_join_hash';"
   ]
  },
  {
   "cell_type": "code",
   "execution_count": 57,
   "id": "48651218-46f9-4e3a-ba70-75be2bd837fb",
   "metadata": {
    "tags": []
   },
   "outputs": [],
   "source": [
    "# Преобразуем тип 'hash_group' в string, потому что pandassql не умеет конвертировать int large в целочисленные типы SQLite\n",
    "\n",
    "# Данное действие требуется только для варианта программы где 'hash' значение конвертировалось в int larg, если работа ведется \n",
    "# с текстовыми 'hash' значениями то оно не нужно, поэтому эти строки кода могут быть закоментированы\n",
    "\n",
    "#scales_hash_in['hash_group'] = scales_hash_in['hash_group'].astype(str)\n",
    "#scales_hash_out['hash_group'] = scales_hash_out['hash_group'].astype(str)\n",
    "\n",
    "# Подготовить SQL запрос для левого соединения таблиц 'scales_hash_in' и 'scales_hash_out'\n",
    "join_query_scales_hash = '''\n",
    "    SELECT\n",
    "        l.id_scales     as id_scales\n",
    "        ,l.trnum         as trnum_in\n",
    "        ,r.trnum         as trnum_out\n",
    "        ,l.invnum        as invnum_in\n",
    "        ,r.invnum        as invnum_out\n",
    "        ,l.num           as num_in\n",
    "        ,l.num           as num_out\n",
    "        ,l.bdatetime     as date_in\n",
    "        ,r.bdatetime     as date_out\n",
    "        ,l.brutto        as tare_in\n",
    "        ,r.tare          as tare_out\n",
    "        ,r.brutto        as brutto\n",
    "        ,r.netto         as netto\n",
    "        ,r.deltaweight   as deltaweight\n",
    "        ,l.hash_group    as hash_group\n",
    "    FROM scales_hash_in as l LEFT JOIN scales_hash_out as r\n",
    "         ON     (l.invnum     = r.invnum)\n",
    "            AND (l.num        = r.num)\n",
    "            AND (l.hash_group = r.hash_group)\n",
    "'''\n",
    "\n",
    "# Выполнить ранее подготовленный запрос средствами библиотеки 'pandasql', получить результирующую таблицу\n",
    "scales_join_hash = ps.sqldf(join_query_scales_hash, locals())\n",
    "\n",
    "# Привести даты к типу datetime\n",
    "scales_join_hash['date_in']  = pd.to_datetime(scales_join_hash['date_in'])\n",
    "scales_join_hash['date_out'] = pd.to_datetime(scales_join_hash['date_out'])\n",
    "\n",
    "# Вставить столбец 'deltatetime' с данными разницы времени (дени - часа - минуты - секунды) между событием 'въехал' и событием 'выехал'\n",
    "scales_join_hash.insert(9, 'deltatetime', scales_join_hash['date_out']-scales_join_hash['date_in'])\n",
    "\n",
    "# Нормировать разницу к формату 00,00 (часы и доли часа)\n",
    "scales_join_hash['deltatetime'] = (scales_join_hash['deltatetime']/pd.Timedelta('1 hour')).round(2)\n",
    "\n",
    "# Преобразовать 'deltatetime' к string и заменить '.' на ',' т.к. импортирует с '.' для дальнейшего использования совместно с Excel\n",
    "scales_join_hash['deltatetime'] = scales_join_hash['deltatetime'].astype(str).str.replace('.', ',', regex=False)\n",
    "\n",
    "# Заменить NaN в столбцах 'trnum_out', 'invnum_out', 'num_out', 'brutto', 'netto', 'deltaweigth' на 0\n",
    "scales_join_hash[['trnum_out'\n",
    "                 ,'invnum_out'\n",
    "                 ,'num_out'\n",
    "                 ,'deltatetime'\n",
    "                 ,'tare_out'\n",
    "                 ,'brutto'\n",
    "                 ,'netto'\n",
    "                 ,'deltaweight']] = scales_join_hash[['trnum_out', 'invnum_out', 'num_out' ,'deltatetime', 'tare_out', 'brutto', 'netto', 'deltaweight']].fillna(0)\n",
    "\n",
    "# Заменить тип в столбцах 'trnum_out', 'invnum_out', 'num_out', 'brutto', 'netto', 'deltaweigth' на int64\n",
    "scales_join_hash[['trnum_out'\n",
    "                 ,'invnum_out'\n",
    "                 ,'num_out'\n",
    "                 ,'tare_out'\n",
    "                 ,'brutto'\n",
    "                 ,'netto'\n",
    "                 ,'deltaweight']] = scales_join_hash[['trnum_out', 'invnum_out', 'num_out', 'tare_out','brutto', 'netto', 'deltaweight']].astype('int64')"
   ]
  },
  {
   "cell_type": "markdown",
   "id": "bba0c370-d97c-4965-acae-6644792fc2f4",
   "metadata": {
    "tags": []
   },
   "source": [
    "### БЛОК ВИЗУАЛИЗАЦИИ ХАРАКТЕРИСТИК РЕЗУЛЬТИРУЮЩЕЙ ТАБЛИЦЫ 'scales_join_hash'  \n",
    "---\n",
    "В данном блоке выводятся на печать основные интегральные характеристики таблицы:\n",
    " - типы данных таблицы;\n",
    " - количестве записей в таблице;\n",
    " - выведены для визуального контроля первые записи таблицы;"
   ]
  },
  {
   "cell_type": "code",
   "execution_count": 58,
   "id": "b896a665-da2a-4da3-ad69-9d13052c2205",
   "metadata": {},
   "outputs": [
    {
     "name": "stdout",
     "output_type": "stream",
     "text": [
      "<class 'pandas.core.frame.DataFrame'>\n",
      "RangeIndex: 6568 entries, 0 to 6567\n",
      "Data columns (total 16 columns):\n",
      " #   Column       Non-Null Count  Dtype         \n",
      "---  ------       --------------  -----         \n",
      " 0   id_scales    6568 non-null   int64         \n",
      " 1   trnum_in     6568 non-null   int64         \n",
      " 2   trnum_out    6568 non-null   int64         \n",
      " 3   invnum_in    6568 non-null   int64         \n",
      " 4   invnum_out   6568 non-null   int64         \n",
      " 5   num_in       6568 non-null   int64         \n",
      " 6   num_out      6568 non-null   int64         \n",
      " 7   date_in      6568 non-null   datetime64[ns]\n",
      " 8   date_out     6051 non-null   datetime64[ns]\n",
      " 9   deltatetime  6568 non-null   object        \n",
      " 10  tare_in      6568 non-null   int64         \n",
      " 11  tare_out     6568 non-null   int64         \n",
      " 12  brutto       6568 non-null   int64         \n",
      " 13  netto        6568 non-null   int64         \n",
      " 14  deltaweight  6568 non-null   int64         \n",
      " 15  hash_group   6568 non-null   object        \n",
      "dtypes: datetime64[ns](2), int64(12), object(2)\n",
      "memory usage: 821.1+ KB\n"
     ]
    }
   ],
   "source": [
    "# Вывести информацию о типах\n",
    "scales_join_hash.info()"
   ]
  },
  {
   "cell_type": "code",
   "execution_count": 59,
   "id": "7aa5e76f-4697-4809-ac2e-ca4027279934",
   "metadata": {},
   "outputs": [
    {
     "data": {
      "text/plain": [
       "6568"
      ]
     },
     "execution_count": 59,
     "metadata": {},
     "output_type": "execute_result"
    }
   ],
   "source": [
    "# Вывести информацию о количестве записей\n",
    "len(scales_join_hash)"
   ]
  },
  {
   "cell_type": "code",
   "execution_count": 60,
   "id": "b493c43c-042b-4852-8130-b910d77412a8",
   "metadata": {},
   "outputs": [
    {
     "data": {
      "text/html": [
       "<div>\n",
       "<style scoped>\n",
       "    .dataframe tbody tr th:only-of-type {\n",
       "        vertical-align: middle;\n",
       "    }\n",
       "\n",
       "    .dataframe tbody tr th {\n",
       "        vertical-align: top;\n",
       "    }\n",
       "\n",
       "    .dataframe thead th {\n",
       "        text-align: right;\n",
       "    }\n",
       "</style>\n",
       "<table border=\"1\" class=\"dataframe\">\n",
       "  <thead>\n",
       "    <tr style=\"text-align: right;\">\n",
       "      <th></th>\n",
       "      <th>id_scales</th>\n",
       "      <th>trnum_in</th>\n",
       "      <th>trnum_out</th>\n",
       "      <th>invnum_in</th>\n",
       "      <th>invnum_out</th>\n",
       "      <th>num_in</th>\n",
       "      <th>num_out</th>\n",
       "      <th>date_in</th>\n",
       "      <th>date_out</th>\n",
       "      <th>deltatetime</th>\n",
       "      <th>tare_in</th>\n",
       "      <th>tare_out</th>\n",
       "      <th>brutto</th>\n",
       "      <th>netto</th>\n",
       "      <th>deltaweight</th>\n",
       "      <th>hash_group</th>\n",
       "    </tr>\n",
       "  </thead>\n",
       "  <tbody>\n",
       "    <tr>\n",
       "      <th>0</th>\n",
       "      <td>2</td>\n",
       "      <td>761304</td>\n",
       "      <td>0</td>\n",
       "      <td>73915704</td>\n",
       "      <td>0</td>\n",
       "      <td>41</td>\n",
       "      <td>41</td>\n",
       "      <td>2023-01-01 01:41:20</td>\n",
       "      <td>NaT</td>\n",
       "      <td>nan</td>\n",
       "      <td>27100</td>\n",
       "      <td>0</td>\n",
       "      <td>0</td>\n",
       "      <td>0</td>\n",
       "      <td>0</td>\n",
       "      <td>754875f74fbd809411651574e4ddeb73</td>\n",
       "    </tr>\n",
       "    <tr>\n",
       "      <th>1</th>\n",
       "      <td>3</td>\n",
       "      <td>761304</td>\n",
       "      <td>0</td>\n",
       "      <td>50919992</td>\n",
       "      <td>0</td>\n",
       "      <td>40</td>\n",
       "      <td>40</td>\n",
       "      <td>2023-01-01 01:41:36</td>\n",
       "      <td>NaT</td>\n",
       "      <td>nan</td>\n",
       "      <td>26350</td>\n",
       "      <td>0</td>\n",
       "      <td>0</td>\n",
       "      <td>0</td>\n",
       "      <td>0</td>\n",
       "      <td>754875f74fbd809411651574e4ddeb73</td>\n",
       "    </tr>\n",
       "    <tr>\n",
       "      <th>2</th>\n",
       "      <td>4</td>\n",
       "      <td>761304</td>\n",
       "      <td>0</td>\n",
       "      <td>50787738</td>\n",
       "      <td>0</td>\n",
       "      <td>39</td>\n",
       "      <td>39</td>\n",
       "      <td>2023-01-01 01:41:57</td>\n",
       "      <td>NaT</td>\n",
       "      <td>nan</td>\n",
       "      <td>27550</td>\n",
       "      <td>0</td>\n",
       "      <td>0</td>\n",
       "      <td>0</td>\n",
       "      <td>0</td>\n",
       "      <td>754875f74fbd809411651574e4ddeb73</td>\n",
       "    </tr>\n",
       "  </tbody>\n",
       "</table>\n",
       "</div>"
      ],
      "text/plain": [
       "   id_scales  trnum_in  trnum_out  invnum_in  invnum_out  num_in  num_out  \\\n",
       "0          2    761304          0   73915704           0      41       41   \n",
       "1          3    761304          0   50919992           0      40       40   \n",
       "2          4    761304          0   50787738           0      39       39   \n",
       "\n",
       "              date_in date_out deltatetime  tare_in  tare_out  brutto  netto  \\\n",
       "0 2023-01-01 01:41:20      NaT         nan    27100         0       0      0   \n",
       "1 2023-01-01 01:41:36      NaT         nan    26350         0       0      0   \n",
       "2 2023-01-01 01:41:57      NaT         nan    27550         0       0      0   \n",
       "\n",
       "   deltaweight                        hash_group  \n",
       "0            0  754875f74fbd809411651574e4ddeb73  \n",
       "1            0  754875f74fbd809411651574e4ddeb73  \n",
       "2            0  754875f74fbd809411651574e4ddeb73  "
      ]
     },
     "execution_count": 60,
     "metadata": {},
     "output_type": "execute_result"
    }
   ],
   "source": [
    "# Вывести первые значения таблицы\n",
    "scales_join_hash.head(3)"
   ]
  },
  {
   "cell_type": "markdown",
   "id": "4d735b79-636e-4a79-95d1-d4f8c8a8d071",
   "metadata": {},
   "source": [
    "### БЛОК СОХРАНЕНИЯ ПРОМЕЖУТОЧНОГО ФАЙЛА CSV С ДАННЫМИ ТАБЛИЦЫ 'scales_join'  \n",
    "---\n",
    " - на выходе получаем CSV файл сгенерированный в соответствии с логикой 'ВЕТКА 2'"
   ]
  },
  {
   "cell_type": "code",
   "execution_count": 61,
   "id": "4628ccb6-c947-40c2-94ba-edb7c1bde72b",
   "metadata": {},
   "outputs": [],
   "source": [
    "# Подготовить переменную с именем экспортируемого CSV файла \n",
    "file_name_scales_join_hash = '04__result-scales-correct-branch2.csv'\n",
    "path_file_scales_join_hash = Path(dir_path,'res', 'data', file_name_scales_join_hash)\n",
    "\n",
    "# Записать в данные в таблицу\n",
    "scales_join_hash.to_csv(str(path_file_scales_join_hash), index=False, sep=';', encoding='utf-8')"
   ]
  },
  {
   "cell_type": "markdown",
   "id": "2661b704-a5dc-42f2-86b5-d71904185caf",
   "metadata": {},
   "source": [
    "### БЛОК СОЕДИНЕНИЯ ЗАПИСЕЙ 'scales_join_hash' И 'marriag' ДЛЯ ПОЛУЧЕНИЯ ТАБЛИЦЫ ЯВЛЯЮЩЕЙСЯ РЕШЕНИЕМ ЗАДАЧИ  \n",
    "---\n",
    "В данном блоке производится объединение записей таблиц scales_join_hash и 'marriag' для получения итоговоЙ ТАБЛИЦЫ, которая является решением задачи. Позже на ее основе будет получен итоговый выходной файл\n",
    "правильных' записей о транзакции состава и всех входящих в него вагонов которые въехали на базу для налива и выехали после. Соединение производится по правилу LEFT JOIN с выполнением двойного условия. Так как 'pandas' не умеет выполнять оьбъединенеия по нечеткому соответствию (а именно таким получается второе условие), то для соединения была задействована дополнительная библиотека 'pandassql' которая работает поверх 'pandas' и перегоняет (динамически) данные в SQL базу данных SQLite, далее позволяет выполнить преобразование с помощью команд SQL, а после обратно сохранить в объекты 'pandas' - DataFrames.\n",
    "Условия соединенеия подразумевают совпадения следующих полей обеих таблиц:  \n",
    " - 'invnum_out' и 'invnum';\n",
    " - нечеткое совпадение временного поля 'bdatetime' (по принципу оконной функции);\n",
    " - на выходе получаем таблицу 'join_table';"
   ]
  },
  {
   "cell_type": "code",
   "execution_count": 62,
   "id": "5d46e90b-da05-4294-bb45-3d3729c18819",
   "metadata": {},
   "outputs": [],
   "source": [
    "# Подготовить SQL запрос для левого соединения таблиц 'scales_join_hash' и 'marriag'\n",
    "\n",
    "join_hash_query_result_table = '''\n",
    "    SELECT\n",
    "        ROW_NUMBER() OVER(ORDER BY l.id_scales) + 1 as id_result\n",
    "        ,l.id_scales   as id_scales\n",
    "        ,r.id_marriag  as id_marriag\n",
    "        ,l.trnum_in    as trnum_in\n",
    "        ,l.trnum_out   as trnum_out\n",
    "        ,l.invnum_in   as invnum_in\n",
    "        ,l.invnum_out  as invnum_out\n",
    "        ,l.num_in      as num_in\n",
    "        ,l.num_out     as num_out\n",
    "        ,l.date_in     as date_in\n",
    "        ,l.date_out    as date_out\n",
    "        ,r.bdatetime   as date_marriag\n",
    "        ,l.deltatetime as deltatetime\n",
    "        ,l.tare_in     as tare_in\n",
    "        ,l.tare_out    as tare_out\n",
    "        ,l.brutto      as brutto\n",
    "        ,l.netto       as netto\n",
    "        ,l.deltaweight as deltaweight\n",
    "        ,r.nact        as nact\n",
    "        ,r.reason      as reason\n",
    "        ,l.hash_group  as hash_group\n",
    "    FROM scales_join_hash as l LEFT JOIN marriag as r\n",
    "         ON (l.invnum_out = r.invnum)\n",
    "            AND (cast(strftime('%s',r.bdatetime) as interger)\n",
    "                BETWEEN cast(strftime('%s',l.date_out, '-30 hours') as interger) AND cast(strftime('%s',l.date_out) as interger) )        \n",
    "'''\n",
    "\n",
    "# Выполнить ранее подготовленный запрос средствами библиотеки 'pandasql', получить результирующую таблицу\n",
    "join_hash_table = ps.sqldf(join_hash_query_result_table, locals())\n",
    "\n",
    "# Привести даты к типу datetime\n",
    "join_hash_table['date_in'] = pd.to_datetime(join_hash_table['date_in'])\n",
    "join_hash_table['date_out'] = pd.to_datetime(join_hash_table['date_out'])\n",
    "join_hash_table['date_marriag'] = pd.to_datetime(join_hash_table['date_marriag'])\n",
    "\n",
    "# Заменить NaN в столбце 'id_marriag' на 0\n",
    "join_hash_table['id_marriag'] = join_hash_table['id_marriag'].fillna(0)\n",
    "\n",
    "# Заменить тип столбца 'id_marriag' на int64\n",
    "join_hash_table['id_marriag'] = join_hash_table['id_marriag'].astype('int64')\n",
    "\n",
    "# Заменить None в столбце 'nact' на 0\n",
    "join_hash_table['nact'] = join_hash_table['nact'].fillna(0)\n",
    "\n",
    "# Заменить тип столбца 'nact' на int64\n",
    "join_hash_table['nact'] = join_hash_table['nact'].astype('int64')\n"
   ]
  },
  {
   "cell_type": "markdown",
   "id": "4e553f45-9137-40ec-9cbc-4c4dbffc8312",
   "metadata": {},
   "source": [
    "### БЛОК ВИЗУАЛИЗАЦИИ ХАРАКТЕРИСТИК РЕЗУЛЬТИРУЮЩЕЙ ТАБЛИЦЫ 'join_hash_table'  \n",
    "---\n",
    "В данном блоке выводятся на печать основные интегральные характеристики таблицы:\n",
    " - количестве записей в таблице;\n",
    " - типы данных в таблице;\n",
    " - выведены для визуального контроля первые записи таблицы;\n"
   ]
  },
  {
   "cell_type": "code",
   "execution_count": 63,
   "id": "be91d3f7-af4e-4f6f-82ff-ec655cbc9eb4",
   "metadata": {
    "tags": []
   },
   "outputs": [
    {
     "name": "stdout",
     "output_type": "stream",
     "text": [
      "<class 'pandas.core.frame.DataFrame'>\n",
      "RangeIndex: 6596 entries, 0 to 6595\n",
      "Data columns (total 21 columns):\n",
      " #   Column        Non-Null Count  Dtype         \n",
      "---  ------        --------------  -----         \n",
      " 0   id_result     6596 non-null   int64         \n",
      " 1   id_scales     6596 non-null   int64         \n",
      " 2   id_marriag    6596 non-null   int64         \n",
      " 3   trnum_in      6596 non-null   int64         \n",
      " 4   trnum_out     6596 non-null   int64         \n",
      " 5   invnum_in     6596 non-null   int64         \n",
      " 6   invnum_out    6596 non-null   int64         \n",
      " 7   num_in        6596 non-null   int64         \n",
      " 8   num_out       6596 non-null   int64         \n",
      " 9   date_in       6596 non-null   datetime64[ns]\n",
      " 10  date_out      6079 non-null   datetime64[ns]\n",
      " 11  date_marriag  375 non-null    datetime64[ns]\n",
      " 12  deltatetime   6596 non-null   object        \n",
      " 13  tare_in       6596 non-null   int64         \n",
      " 14  tare_out      6596 non-null   int64         \n",
      " 15  brutto        6596 non-null   int64         \n",
      " 16  netto         6596 non-null   int64         \n",
      " 17  deltaweight   6596 non-null   int64         \n",
      " 18  nact          6596 non-null   int64         \n",
      " 19  reason        375 non-null    object        \n",
      " 20  hash_group    6596 non-null   object        \n",
      "dtypes: datetime64[ns](3), int64(15), object(3)\n",
      "memory usage: 1.1+ MB\n"
     ]
    }
   ],
   "source": [
    "# Сводная информация по таблице 'join_table'\n",
    "join_hash_table.info()"
   ]
  },
  {
   "cell_type": "code",
   "execution_count": 64,
   "id": "fee9c0ff-a6cd-4f5d-9523-8291554fb332",
   "metadata": {},
   "outputs": [
    {
     "data": {
      "text/plain": [
       "6596"
      ]
     },
     "execution_count": 64,
     "metadata": {},
     "output_type": "execute_result"
    }
   ],
   "source": [
    "# Общее количество записей таблицы 'join_table'\n",
    "len(join_hash_table)"
   ]
  },
  {
   "cell_type": "code",
   "execution_count": 46,
   "id": "b5cea1df-32ed-4efb-a9f8-690c91f51bd6",
   "metadata": {},
   "outputs": [
    {
     "data": {
      "text/html": [
       "<div>\n",
       "<style scoped>\n",
       "    .dataframe tbody tr th:only-of-type {\n",
       "        vertical-align: middle;\n",
       "    }\n",
       "\n",
       "    .dataframe tbody tr th {\n",
       "        vertical-align: top;\n",
       "    }\n",
       "\n",
       "    .dataframe thead th {\n",
       "        text-align: right;\n",
       "    }\n",
       "</style>\n",
       "<table border=\"1\" class=\"dataframe\">\n",
       "  <thead>\n",
       "    <tr style=\"text-align: right;\">\n",
       "      <th></th>\n",
       "      <th>id_result</th>\n",
       "      <th>id_scales</th>\n",
       "      <th>id_marriag</th>\n",
       "      <th>trnum_in</th>\n",
       "      <th>trnum_out</th>\n",
       "      <th>invnum_in</th>\n",
       "      <th>invnum_out</th>\n",
       "      <th>num_in</th>\n",
       "      <th>num_out</th>\n",
       "      <th>date_in</th>\n",
       "      <th>...</th>\n",
       "      <th>date_marriag</th>\n",
       "      <th>deltatetime</th>\n",
       "      <th>tare_in</th>\n",
       "      <th>tare_out</th>\n",
       "      <th>brutto</th>\n",
       "      <th>netto</th>\n",
       "      <th>deltaweight</th>\n",
       "      <th>nact</th>\n",
       "      <th>reason</th>\n",
       "      <th>hash_group</th>\n",
       "    </tr>\n",
       "  </thead>\n",
       "  <tbody>\n",
       "    <tr>\n",
       "      <th>0</th>\n",
       "      <td>2</td>\n",
       "      <td>2</td>\n",
       "      <td>0</td>\n",
       "      <td>683482</td>\n",
       "      <td>683563</td>\n",
       "      <td>73218588</td>\n",
       "      <td>73218588</td>\n",
       "      <td>40</td>\n",
       "      <td>40</td>\n",
       "      <td>2022-01-01 04:46:00</td>\n",
       "      <td>...</td>\n",
       "      <td>NaT</td>\n",
       "      <td>13,2</td>\n",
       "      <td>26400</td>\n",
       "      <td>26400</td>\n",
       "      <td>86900</td>\n",
       "      <td>60500</td>\n",
       "      <td>60500</td>\n",
       "      <td>0</td>\n",
       "      <td>None</td>\n",
       "      <td>e014f131431942ef0ffe305e99d6749d</td>\n",
       "    </tr>\n",
       "    <tr>\n",
       "      <th>1</th>\n",
       "      <td>3</td>\n",
       "      <td>3</td>\n",
       "      <td>0</td>\n",
       "      <td>683482</td>\n",
       "      <td>683563</td>\n",
       "      <td>51920114</td>\n",
       "      <td>51920114</td>\n",
       "      <td>39</td>\n",
       "      <td>39</td>\n",
       "      <td>2022-01-01 04:46:00</td>\n",
       "      <td>...</td>\n",
       "      <td>NaT</td>\n",
       "      <td>13,2</td>\n",
       "      <td>25950</td>\n",
       "      <td>25950</td>\n",
       "      <td>88000</td>\n",
       "      <td>62050</td>\n",
       "      <td>62050</td>\n",
       "      <td>0</td>\n",
       "      <td>None</td>\n",
       "      <td>e014f131431942ef0ffe305e99d6749d</td>\n",
       "    </tr>\n",
       "  </tbody>\n",
       "</table>\n",
       "<p>2 rows × 21 columns</p>\n",
       "</div>"
      ],
      "text/plain": [
       "   id_result  id_scales  id_marriag  trnum_in  trnum_out  invnum_in  \\\n",
       "0          2          2           0    683482     683563   73218588   \n",
       "1          3          3           0    683482     683563   51920114   \n",
       "\n",
       "   invnum_out  num_in  num_out             date_in  ... date_marriag  \\\n",
       "0    73218588      40       40 2022-01-01 04:46:00  ...          NaT   \n",
       "1    51920114      39       39 2022-01-01 04:46:00  ...          NaT   \n",
       "\n",
       "  deltatetime tare_in  tare_out  brutto  netto  deltaweight  nact  reason  \\\n",
       "0        13,2   26400     26400   86900  60500        60500     0    None   \n",
       "1        13,2   25950     25950   88000  62050        62050     0    None   \n",
       "\n",
       "                         hash_group  \n",
       "0  e014f131431942ef0ffe305e99d6749d  \n",
       "1  e014f131431942ef0ffe305e99d6749d  \n",
       "\n",
       "[2 rows x 21 columns]"
      ]
     },
     "execution_count": 46,
     "metadata": {},
     "output_type": "execute_result"
    }
   ],
   "source": [
    "# Первые значения таблицы 'join_table'\n",
    "join_hash_table.head(2)"
   ]
  },
  {
   "cell_type": "markdown",
   "id": "56025f2f-6d57-4d94-9a5c-4c2dc4404773",
   "metadata": {
    "tags": []
   },
   "source": [
    "### БЛОК СОХРАНЕНИЯ РЕШЕНИЯ ЗАДАЧИ ПО МЕТОДУ 'ВЕТКА 2' В CSV ФАЙЛ  \n",
    "---  \n",
    " - на выходе получаем CSV файл сгенерированный в соответствии с логикой 'ВЕТКА 2'\n",
    "\n"
   ]
  },
  {
   "cell_type": "code",
   "execution_count": 65,
   "id": "921c81e0-d752-4890-afe5-18c03ad9d8bb",
   "metadata": {},
   "outputs": [],
   "source": [
    "# Подготовить переменную с именем результирующего CSV файла\n",
    "file_name_join_hash_table = '06__result-table-branch2.csv'\n",
    "path_file_join_hash_table = Path(dir_path,'res', 'data', file_name_join_hash_table)\n",
    "\n",
    "# Записать в данные в файл\n",
    "join_hash_table.to_csv(str(path_file_join_hash_table), index=False, sep=';', encoding='utf-8')"
   ]
  }
 ],
 "metadata": {
  "kernelspec": {
   "display_name": "Python 3 (ipykernel)",
   "language": "python",
   "name": "python3"
  },
  "language_info": {
   "codemirror_mode": {
    "name": "ipython",
    "version": 3
   },
   "file_extension": ".py",
   "mimetype": "text/x-python",
   "name": "python",
   "nbconvert_exporter": "python",
   "pygments_lexer": "ipython3",
   "version": "3.9.10"
  },
  "vscode": {
   "interpreter": {
    "hash": "ad576a108e8407fa612c462da2b922c446627f16b36f7d316a57b8c93f3eb233"
   }
  }
 },
 "nbformat": 4,
 "nbformat_minor": 5
}
